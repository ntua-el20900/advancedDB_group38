{
 "cells": [
  {
   "cell_type": "code",
   "execution_count": 1,
   "id": "e203355d-3922-4972-b5ef-cbb8e1a82265",
   "metadata": {
    "tags": []
   },
   "outputs": [
    {
     "data": {
      "text/html": [
       "Current session configs: <tt>{'conf': {'spark.sql.catalog.spark_catalog.type': 'hive', 'spark.executor.instances': '2', 'spark.executor.memory': '8g', 'spark.executor.cores': '4', 'spark.driver.memory': '2g'}, 'kind': 'pyspark'}</tt><br>"
      ],
      "text/plain": [
       "<IPython.core.display.HTML object>"
      ]
     },
     "metadata": {},
     "output_type": "display_data"
    },
    {
     "data": {
      "text/html": [
       "<table>\n",
       "<tr><th>ID</th><th>YARN Application ID</th><th>Kind</th><th>State</th><th>Spark UI</th><th>Driver log</th><th>User</th><th>Current session?</th></tr><tr><td>255</td><td>application_1738075734771_0256</td><td>pyspark</td><td>idle</td><td><a target=\"_blank\" href=\"http://ip-192-168-1-12.eu-central-1.compute.internal:20888/proxy/application_1738075734771_0256/\">Link</a></td><td><a target=\"_blank\" href=\"http://ip-192-168-1-86.eu-central-1.compute.internal:8042/node/containerlogs/container_1738075734771_0256_01_000001/livy\">Link</a></td><td>None</td><td></td></tr><tr><td>270</td><td>application_1738075734771_0271</td><td>pyspark</td><td>idle</td><td><a target=\"_blank\" href=\"http://ip-192-168-1-12.eu-central-1.compute.internal:20888/proxy/application_1738075734771_0271/\">Link</a></td><td><a target=\"_blank\" href=\"http://ip-192-168-1-72.eu-central-1.compute.internal:8042/node/containerlogs/container_1738075734771_0271_01_000001/livy\">Link</a></td><td>None</td><td></td></tr><tr><td>284</td><td>application_1738075734771_0285</td><td>pyspark</td><td>idle</td><td><a target=\"_blank\" href=\"http://ip-192-168-1-12.eu-central-1.compute.internal:20888/proxy/application_1738075734771_0285/\">Link</a></td><td><a target=\"_blank\" href=\"http://ip-192-168-1-137.eu-central-1.compute.internal:8042/node/containerlogs/container_1738075734771_0285_01_000001/livy\">Link</a></td><td>None</td><td></td></tr><tr><td>285</td><td>application_1738075734771_0286</td><td>pyspark</td><td>idle</td><td><a target=\"_blank\" href=\"http://ip-192-168-1-12.eu-central-1.compute.internal:20888/proxy/application_1738075734771_0286/\">Link</a></td><td><a target=\"_blank\" href=\"http://ip-192-168-1-194.eu-central-1.compute.internal:8042/node/containerlogs/container_1738075734771_0286_01_000001/livy\">Link</a></td><td>None</td><td></td></tr><tr><td>300</td><td>application_1738075734771_0301</td><td>pyspark</td><td>idle</td><td><a target=\"_blank\" href=\"http://ip-192-168-1-12.eu-central-1.compute.internal:20888/proxy/application_1738075734771_0301/\">Link</a></td><td><a target=\"_blank\" href=\"http://ip-192-168-1-241.eu-central-1.compute.internal:8042/node/containerlogs/container_1738075734771_0301_01_000001/livy\">Link</a></td><td>None</td><td></td></tr><tr><td>326</td><td>application_1738075734771_0327</td><td>pyspark</td><td>idle</td><td><a target=\"_blank\" href=\"http://ip-192-168-1-12.eu-central-1.compute.internal:20888/proxy/application_1738075734771_0327/\">Link</a></td><td><a target=\"_blank\" href=\"http://ip-192-168-1-241.eu-central-1.compute.internal:8042/node/containerlogs/container_1738075734771_0327_01_000002/livy\">Link</a></td><td>None</td><td></td></tr><tr><td>330</td><td>application_1738075734771_0331</td><td>pyspark</td><td>idle</td><td><a target=\"_blank\" href=\"http://ip-192-168-1-12.eu-central-1.compute.internal:20888/proxy/application_1738075734771_0331/\">Link</a></td><td><a target=\"_blank\" href=\"http://ip-192-168-1-194.eu-central-1.compute.internal:8042/node/containerlogs/container_1738075734771_0331_01_000001/livy\">Link</a></td><td>None</td><td></td></tr><tr><td>332</td><td>application_1738075734771_0333</td><td>pyspark</td><td>idle</td><td><a target=\"_blank\" href=\"http://ip-192-168-1-12.eu-central-1.compute.internal:20888/proxy/application_1738075734771_0333/\">Link</a></td><td><a target=\"_blank\" href=\"http://ip-192-168-1-32.eu-central-1.compute.internal:8042/node/containerlogs/container_1738075734771_0333_01_000001/livy\">Link</a></td><td>None</td><td></td></tr><tr><td>334</td><td>application_1738075734771_0335</td><td>pyspark</td><td>idle</td><td><a target=\"_blank\" href=\"http://ip-192-168-1-12.eu-central-1.compute.internal:20888/proxy/application_1738075734771_0335/\">Link</a></td><td><a target=\"_blank\" href=\"http://ip-192-168-1-75.eu-central-1.compute.internal:8042/node/containerlogs/container_1738075734771_0335_01_000001/livy\">Link</a></td><td>None</td><td></td></tr><tr><td>343</td><td>application_1738075734771_0344</td><td>pyspark</td><td>idle</td><td><a target=\"_blank\" href=\"http://ip-192-168-1-12.eu-central-1.compute.internal:20888/proxy/application_1738075734771_0344/\">Link</a></td><td><a target=\"_blank\" href=\"http://ip-192-168-1-194.eu-central-1.compute.internal:8042/node/containerlogs/container_1738075734771_0344_01_000002/livy\">Link</a></td><td>None</td><td></td></tr></table>"
      ],
      "text/plain": [
       "<IPython.core.display.HTML object>"
      ]
     },
     "metadata": {},
     "output_type": "display_data"
    }
   ],
   "source": [
    "%%configure -f\n",
    "{\n",
    "    \"conf\": {\n",
    "        \"spark.executor.instances\": \"2\",\n",
    "        \"spark.executor.memory\": \"8g\",\n",
    "        \"spark.executor.cores\": \"4\",\n",
    "        \"spark.driver.memory\": \"2g\"\n",
    "    }\n",
    "}"
   ]
  },
  {
   "cell_type": "code",
   "execution_count": 2,
   "id": "63daef14-1ac7-4993-876a-f8ab0bf2e822",
   "metadata": {
    "tags": []
   },
   "outputs": [
    {
     "name": "stdout",
     "output_type": "stream",
     "text": [
      "Starting Spark application\n"
     ]
    },
    {
     "data": {
      "text/html": [
       "<table>\n",
       "<tr><th>ID</th><th>YARN Application ID</th><th>Kind</th><th>State</th><th>Spark UI</th><th>Driver log</th><th>User</th><th>Current session?</th></tr><tr><td>353</td><td>application_1738075734771_0354</td><td>pyspark</td><td>idle</td><td><a target=\"_blank\" href=\"http://ip-192-168-1-12.eu-central-1.compute.internal:20888/proxy/application_1738075734771_0354/\">Link</a></td><td><a target=\"_blank\" href=\"http://ip-192-168-1-194.eu-central-1.compute.internal:8042/node/containerlogs/container_1738075734771_0354_01_000001/livy\">Link</a></td><td>None</td><td>✔</td></tr></table>"
      ],
      "text/plain": [
       "<IPython.core.display.HTML object>"
      ]
     },
     "metadata": {},
     "output_type": "display_data"
    },
    {
     "data": {
      "application/vnd.jupyter.widget-view+json": {
       "model_id": "",
       "version_major": 2,
       "version_minor": 0
      },
      "text/plain": [
       "FloatProgress(value=0.0, bar_style='info', description='Progress:', layout=Layout(height='25px', width='50%'),…"
      ]
     },
     "metadata": {},
     "output_type": "display_data"
    },
    {
     "name": "stdout",
     "output_type": "stream",
     "text": [
      "SparkSession available as 'spark'.\n"
     ]
    },
    {
     "data": {
      "application/vnd.jupyter.widget-view+json": {
       "model_id": "",
       "version_major": 2,
       "version_minor": 0
      },
      "text/plain": [
       "FloatProgress(value=0.0, bar_style='info', description='Progress:', layout=Layout(height='25px', width='50%'),…"
      ]
     },
     "metadata": {},
     "output_type": "display_data"
    },
    {
     "name": "stdout",
     "output_type": "stream",
     "text": [
      "+----------------+------------------+------+\n",
      "|        division|  average_distance|     #|\n",
      "+----------------+------------------+------+\n",
      "|       HOLLYWOOD| 2.076263960178723|224340|\n",
      "|        VAN NUYS| 2.953369742819782|210134|\n",
      "|       SOUTHWEST|2.1913988057808855|188901|\n",
      "|        WILSHIRE| 2.592665532978777|185996|\n",
      "|     77TH STREET|1.7165449719701003|171827|\n",
      "|         OLYMPIC|1.7236036971780941|170897|\n",
      "| NORTH HOLLYWOOD| 2.643006094141568|167854|\n",
      "|         PACIFIC|3.8500706553079005|161359|\n",
      "|         CENTRAL|0.9924764374568917|153871|\n",
      "|         RAMPART|1.5345341879190049|152736|\n",
      "|       SOUTHEAST|2.4218662158881825|152176|\n",
      "|     WEST VALLEY|3.0356712163140793|138643|\n",
      "|         TOPANGA|3.2969548417555568|138217|\n",
      "|        FOOTHILL| 4.250921708424992|134896|\n",
      "|          HARBOR|3.7025615993565073|126747|\n",
      "|      HOLLENBECK| 366.9213044614892|119294|\n",
      "|WEST LOS ANGELES|2.7924572890341137|115781|\n",
      "|          NEWTON|1.6346357397097446|111110|\n",
      "|       NORTHEAST|3.6236655246040765|108109|\n",
      "|         MISSION|3.6909426142786046|103355|\n",
      "|      DEVONSHIRE|2.8247654128008257| 77094|\n",
      "+----------------+------------------+------+\n",
      "\n",
      "Configuration 1 (2 executors * 4 cores/8GB memory) Execution Time: 24.35 seconds"
     ]
    }
   ],
   "source": [
    "from pyspark.sql import SparkSession\n",
    "from pyspark.sql.functions import col, count, avg, min\n",
    "from sedona.spark import *\n",
    "import time\n",
    "\n",
    "# Δημιουργία SparkSession\n",
    "spark = SparkSession.builder \\\n",
    "    .appName(\"Query 5\") \\\n",
    "    .getOrCreate()\n",
    "\n",
    "# Sedona Context για GeoJSON δεδομένα\n",
    "sedona = SedonaContext.create(spark)\n",
    "\n",
    "# Μέτρηση χρόνου\n",
    "start_time = time.time()\n",
    "\n",
    "# Φόρτωση δεδομένων\n",
    "crime_2010_2019_path = \"s3://initial-notebook-data-bucket-dblab-905418150721/CrimeData/Crime_Data_from_2010_to_2019_20241101.csv\"\n",
    "crime_2020_present_path = \"s3://initial-notebook-data-bucket-dblab-905418150721/CrimeData/Crime_Data_from_2020_to_Present_20241101.csv\"\n",
    "police_stations_path = \"s3://initial-notebook-data-bucket-dblab-905418150721/LA_Police_Stations.csv\"\n",
    "\n",
    "crime_df_2010_2019 = spark.read.csv(crime_2010_2019_path, header=True, inferSchema=True)\n",
    "crime_df_2020_present = spark.read.csv(crime_2020_present_path, header=True, inferSchema=True)\n",
    "crime_df = crime_df_2010_2019.union(crime_df_2020_present)\n",
    "police_stations_df = spark.read.csv(police_stations_path, header=True, inferSchema=True)\n",
    "\n",
    "# Δημιουργία γεωμετρικών αντικειμένων\n",
    "crime_data = crime_df.filter(col(\"LAT\").isNotNull() & col(\"LON\").isNotNull()) \\\n",
    "    .withColumn(\"crime_geometry\", ST_Point(col(\"LON\"), col(\"LAT\")))\n",
    "police_stations = police_stations_df.withColumn(\"station_geometry\", ST_Point(col(\"X\"), col(\"Y\")))\n",
    "\n",
    "# Υπολογισμός αποστάσεων για κάθε έγκλημα και αστυνομικό τμήμα\n",
    "crime_with_distances = crime_data.join(police_stations) \\\n",
    "    .withColumn(\"distance\", ST_DistanceSphere(col(\"crime_geometry\"), col(\"station_geometry\"))/1000) \n",
    "\n",
    "# Υπολογισμός της ελάχιστης απόστασης για κάθε έγκλημα\n",
    "min_distances = crime_with_distances.groupBy(\"DR_NO\") \\\n",
    "    .agg(min(\"distance\").alias(\"min_distance\"))\n",
    "\n",
    "# Μετονομασία της στήλης DR_NO στο crime_with_distances\n",
    "crime_with_distances = crime_with_distances.withColumnRenamed(\"DR_NO\", \"crime_DR_NO\")\n",
    "\n",
    "# Join για να βρούμε το πλησιέστερο αστυνομικό τμήμα\n",
    "crime_with_nearest_station = min_distances.join(\n",
    "    crime_with_distances,\n",
    "    (min_distances[\"DR_NO\"] == crime_with_distances[\"crime_DR_NO\"]) &\n",
    "    (min_distances[\"min_distance\"] == crime_with_distances[\"distance\"])\n",
    ").select(\n",
    "    col(\"DR_NO\").alias(\"crime_id\"),\n",
    "    col(\"min_distance\"),\n",
    "    col(\"DIVISION\").alias(\"division\")\n",
    ")\n",
    "\n",
    "# Υπολογισμός του αριθμού εγκλημάτων και της μέσης απόστασης ανά τμήμα\n",
    "result = crime_with_nearest_station.groupBy(\"division\") \\\n",
    "    .agg(\n",
    "        avg(\"min_distance\").alias(\"average_distance\"),\n",
    "        count(\"crime_id\").alias(\"#\")\n",
    "    ) \\\n",
    "    .orderBy(\"#\", ascending=False)\n",
    "\n",
    "# Εμφάνιση αποτελεσμάτων\n",
    "result.show(21)\n",
    "\n",
    "end_time = time.time()\n",
    "\n",
    "# Εμφάνιση χρόνου εκτέλεσης\n",
    "print(f\"Configuration 1 (2 executors * 4 cores/8GB memory) Execution Time: {(end_time - start_time):.2f} seconds\")"
   ]
  },
  {
   "cell_type": "code",
   "execution_count": 1,
   "id": "b720177b-f1bd-4ec5-a045-081150ab2294",
   "metadata": {
    "tags": []
   },
   "outputs": [
    {
     "data": {
      "text/html": [
       "Current session configs: <tt>{'conf': {'spark.sql.catalog.spark_catalog.type': 'hive', 'spark.executor.instances': '4', 'spark.executor.memory': '4g', 'spark.executor.cores': '2', 'spark.driver.memory': '2g'}, 'kind': 'pyspark'}</tt><br>"
      ],
      "text/plain": [
       "<IPython.core.display.HTML object>"
      ]
     },
     "metadata": {},
     "output_type": "display_data"
    },
    {
     "data": {
      "text/html": [
       "<table>\n",
       "<tr><th>ID</th><th>YARN Application ID</th><th>Kind</th><th>State</th><th>Spark UI</th><th>Driver log</th><th>User</th><th>Current session?</th></tr><tr><td>255</td><td>application_1738075734771_0256</td><td>pyspark</td><td>idle</td><td><a target=\"_blank\" href=\"http://ip-192-168-1-12.eu-central-1.compute.internal:20888/proxy/application_1738075734771_0256/\">Link</a></td><td><a target=\"_blank\" href=\"http://ip-192-168-1-86.eu-central-1.compute.internal:8042/node/containerlogs/container_1738075734771_0256_01_000001/livy\">Link</a></td><td>None</td><td></td></tr><tr><td>270</td><td>application_1738075734771_0271</td><td>pyspark</td><td>idle</td><td><a target=\"_blank\" href=\"http://ip-192-168-1-12.eu-central-1.compute.internal:20888/proxy/application_1738075734771_0271/\">Link</a></td><td><a target=\"_blank\" href=\"http://ip-192-168-1-72.eu-central-1.compute.internal:8042/node/containerlogs/container_1738075734771_0271_01_000001/livy\">Link</a></td><td>None</td><td></td></tr><tr><td>284</td><td>application_1738075734771_0285</td><td>pyspark</td><td>idle</td><td><a target=\"_blank\" href=\"http://ip-192-168-1-12.eu-central-1.compute.internal:20888/proxy/application_1738075734771_0285/\">Link</a></td><td><a target=\"_blank\" href=\"http://ip-192-168-1-137.eu-central-1.compute.internal:8042/node/containerlogs/container_1738075734771_0285_01_000001/livy\">Link</a></td><td>None</td><td></td></tr><tr><td>285</td><td>application_1738075734771_0286</td><td>pyspark</td><td>idle</td><td><a target=\"_blank\" href=\"http://ip-192-168-1-12.eu-central-1.compute.internal:20888/proxy/application_1738075734771_0286/\">Link</a></td><td><a target=\"_blank\" href=\"http://ip-192-168-1-194.eu-central-1.compute.internal:8042/node/containerlogs/container_1738075734771_0286_01_000001/livy\">Link</a></td><td>None</td><td></td></tr><tr><td>300</td><td>application_1738075734771_0301</td><td>pyspark</td><td>idle</td><td><a target=\"_blank\" href=\"http://ip-192-168-1-12.eu-central-1.compute.internal:20888/proxy/application_1738075734771_0301/\">Link</a></td><td><a target=\"_blank\" href=\"http://ip-192-168-1-241.eu-central-1.compute.internal:8042/node/containerlogs/container_1738075734771_0301_01_000001/livy\">Link</a></td><td>None</td><td></td></tr><tr><td>326</td><td>application_1738075734771_0327</td><td>pyspark</td><td>idle</td><td><a target=\"_blank\" href=\"http://ip-192-168-1-12.eu-central-1.compute.internal:20888/proxy/application_1738075734771_0327/\">Link</a></td><td><a target=\"_blank\" href=\"http://ip-192-168-1-241.eu-central-1.compute.internal:8042/node/containerlogs/container_1738075734771_0327_01_000002/livy\">Link</a></td><td>None</td><td></td></tr><tr><td>330</td><td>application_1738075734771_0331</td><td>pyspark</td><td>idle</td><td><a target=\"_blank\" href=\"http://ip-192-168-1-12.eu-central-1.compute.internal:20888/proxy/application_1738075734771_0331/\">Link</a></td><td><a target=\"_blank\" href=\"http://ip-192-168-1-194.eu-central-1.compute.internal:8042/node/containerlogs/container_1738075734771_0331_01_000001/livy\">Link</a></td><td>None</td><td></td></tr><tr><td>332</td><td>application_1738075734771_0333</td><td>pyspark</td><td>idle</td><td><a target=\"_blank\" href=\"http://ip-192-168-1-12.eu-central-1.compute.internal:20888/proxy/application_1738075734771_0333/\">Link</a></td><td><a target=\"_blank\" href=\"http://ip-192-168-1-32.eu-central-1.compute.internal:8042/node/containerlogs/container_1738075734771_0333_01_000001/livy\">Link</a></td><td>None</td><td></td></tr><tr><td>334</td><td>application_1738075734771_0335</td><td>pyspark</td><td>idle</td><td><a target=\"_blank\" href=\"http://ip-192-168-1-12.eu-central-1.compute.internal:20888/proxy/application_1738075734771_0335/\">Link</a></td><td><a target=\"_blank\" href=\"http://ip-192-168-1-75.eu-central-1.compute.internal:8042/node/containerlogs/container_1738075734771_0335_01_000001/livy\">Link</a></td><td>None</td><td></td></tr><tr><td>343</td><td>application_1738075734771_0344</td><td>pyspark</td><td>idle</td><td><a target=\"_blank\" href=\"http://ip-192-168-1-12.eu-central-1.compute.internal:20888/proxy/application_1738075734771_0344/\">Link</a></td><td><a target=\"_blank\" href=\"http://ip-192-168-1-194.eu-central-1.compute.internal:8042/node/containerlogs/container_1738075734771_0344_01_000002/livy\">Link</a></td><td>None</td><td></td></tr></table>"
      ],
      "text/plain": [
       "<IPython.core.display.HTML object>"
      ]
     },
     "metadata": {},
     "output_type": "display_data"
    }
   ],
   "source": [
    "%%configure -f\n",
    "{\n",
    "    \"conf\": {\n",
    "        \"spark.executor.instances\": \"4\",\n",
    "        \"spark.executor.memory\": \"4g\",\n",
    "        \"spark.executor.cores\": \"2\",\n",
    "        \"spark.driver.memory\": \"2g\"\n",
    "    }\n",
    "}"
   ]
  },
  {
   "cell_type": "code",
   "execution_count": 2,
   "id": "febb935c-c181-47fb-8248-7871a2559407",
   "metadata": {
    "tags": []
   },
   "outputs": [
    {
     "name": "stdout",
     "output_type": "stream",
     "text": [
      "Starting Spark application\n"
     ]
    },
    {
     "data": {
      "text/html": [
       "<table>\n",
       "<tr><th>ID</th><th>YARN Application ID</th><th>Kind</th><th>State</th><th>Spark UI</th><th>Driver log</th><th>User</th><th>Current session?</th></tr><tr><td>348</td><td>application_1738075734771_0349</td><td>pyspark</td><td>idle</td><td><a target=\"_blank\" href=\"http://ip-192-168-1-12.eu-central-1.compute.internal:20888/proxy/application_1738075734771_0349/\">Link</a></td><td><a target=\"_blank\" href=\"http://ip-192-168-1-139.eu-central-1.compute.internal:8042/node/containerlogs/container_1738075734771_0349_01_000001/livy\">Link</a></td><td>None</td><td>✔</td></tr></table>"
      ],
      "text/plain": [
       "<IPython.core.display.HTML object>"
      ]
     },
     "metadata": {},
     "output_type": "display_data"
    },
    {
     "data": {
      "application/vnd.jupyter.widget-view+json": {
       "model_id": "",
       "version_major": 2,
       "version_minor": 0
      },
      "text/plain": [
       "FloatProgress(value=0.0, bar_style='info', description='Progress:', layout=Layout(height='25px', width='50%'),…"
      ]
     },
     "metadata": {},
     "output_type": "display_data"
    },
    {
     "name": "stdout",
     "output_type": "stream",
     "text": [
      "SparkSession available as 'spark'.\n"
     ]
    },
    {
     "data": {
      "application/vnd.jupyter.widget-view+json": {
       "model_id": "",
       "version_major": 2,
       "version_minor": 0
      },
      "text/plain": [
       "FloatProgress(value=0.0, bar_style='info', description='Progress:', layout=Layout(height='25px', width='50%'),…"
      ]
     },
     "metadata": {},
     "output_type": "display_data"
    },
    {
     "name": "stdout",
     "output_type": "stream",
     "text": [
      "+----------------+------------------+------+\n",
      "|        division|  average_distance|     #|\n",
      "+----------------+------------------+------+\n",
      "|       HOLLYWOOD| 2.076263960178723|224340|\n",
      "|        VAN NUYS|2.9533697428197825|210134|\n",
      "|       SOUTHWEST| 2.191398805780886|188901|\n",
      "|        WILSHIRE| 2.592665532978777|185996|\n",
      "|     77TH STREET|1.7165449719701007|171827|\n",
      "|         OLYMPIC|1.7236036971780941|170897|\n",
      "| NORTH HOLLYWOOD|2.6430060941415667|167854|\n",
      "|         PACIFIC|3.8500706553079014|161359|\n",
      "|         CENTRAL|0.9924764374568917|153871|\n",
      "|         RAMPART| 1.534534187919005|152736|\n",
      "|       SOUTHEAST| 2.421866215888182|152176|\n",
      "|     WEST VALLEY|3.0356712163140815|138643|\n",
      "|         TOPANGA|3.2969548417555563|138217|\n",
      "|        FOOTHILL| 4.250921708424992|134896|\n",
      "|          HARBOR|3.7025615993565073|126747|\n",
      "|      HOLLENBECK| 366.9213044614893|119294|\n",
      "|WEST LOS ANGELES| 2.792457289034113|115781|\n",
      "|          NEWTON|1.6346357397097453|111110|\n",
      "|       NORTHEAST|3.6236655246040748|108109|\n",
      "|         MISSION| 3.690942614278606|103355|\n",
      "|      DEVONSHIRE| 2.824765412800825| 77094|\n",
      "+----------------+------------------+------+\n",
      "\n",
      "Configuration 2 (4 executors * 2 cores/4GB memory) Execution Time: 28.05 seconds"
     ]
    }
   ],
   "source": [
    "from pyspark.sql import SparkSession\n",
    "from pyspark.sql.functions import col, count, avg, min\n",
    "from sedona.spark import *\n",
    "import time\n",
    "\n",
    "# Δημιουργία SparkSession\n",
    "spark = SparkSession.builder \\\n",
    "    .appName(\"Query 5\") \\\n",
    "    .getOrCreate()\n",
    "\n",
    "# Sedona Context για GeoJSON δεδομένα\n",
    "sedona = SedonaContext.create(spark)\n",
    "\n",
    "# Μέτρηση χρόνου\n",
    "start_time = time.time()\n",
    "\n",
    "# Φόρτωση δεδομένων\n",
    "crime_2010_2019_path = \"s3://initial-notebook-data-bucket-dblab-905418150721/CrimeData/Crime_Data_from_2010_to_2019_20241101.csv\"\n",
    "crime_2020_present_path = \"s3://initial-notebook-data-bucket-dblab-905418150721/CrimeData/Crime_Data_from_2020_to_Present_20241101.csv\"\n",
    "police_stations_path = \"s3://initial-notebook-data-bucket-dblab-905418150721/LA_Police_Stations.csv\"\n",
    "\n",
    "crime_df_2010_2019 = spark.read.csv(crime_2010_2019_path, header=True, inferSchema=True)\n",
    "crime_df_2020_present = spark.read.csv(crime_2020_present_path, header=True, inferSchema=True)\n",
    "crime_df = crime_df_2010_2019.union(crime_df_2020_present)\n",
    "police_stations_df = spark.read.csv(police_stations_path, header=True, inferSchema=True)\n",
    "\n",
    "# Δημιουργία γεωμετρικών αντικειμένων\n",
    "crime_data = crime_df.filter(col(\"LAT\").isNotNull() & col(\"LON\").isNotNull()) \\\n",
    "    .withColumn(\"crime_geometry\", ST_Point(col(\"LON\"), col(\"LAT\")))\n",
    "police_stations = police_stations_df.withColumn(\"station_geometry\", ST_Point(col(\"X\"), col(\"Y\")))\n",
    "\n",
    "# Υπολογισμός αποστάσεων για κάθε έγκλημα και αστυνομικό τμήμα\n",
    "crime_with_distances = crime_data.join(police_stations) \\\n",
    "    .withColumn(\"distance\", ST_DistanceSphere(col(\"crime_geometry\"), col(\"station_geometry\"))/1000) \n",
    "\n",
    "# Υπολογισμός της ελάχιστης απόστασης για κάθε έγκλημα\n",
    "min_distances = crime_with_distances.groupBy(\"DR_NO\") \\\n",
    "    .agg(min(\"distance\").alias(\"min_distance\"))\n",
    "\n",
    "# Μετονομασία της στήλης DR_NO στο crime_with_distances\n",
    "crime_with_distances = crime_with_distances.withColumnRenamed(\"DR_NO\", \"crime_DR_NO\")\n",
    "\n",
    "# Join για να βρούμε το πλησιέστερο αστυνομικό τμήμα\n",
    "crime_with_nearest_station = min_distances.join(\n",
    "    crime_with_distances,\n",
    "    (min_distances[\"DR_NO\"] == crime_with_distances[\"crime_DR_NO\"]) &\n",
    "    (min_distances[\"min_distance\"] == crime_with_distances[\"distance\"])\n",
    ").select(\n",
    "    col(\"DR_NO\").alias(\"crime_id\"),\n",
    "    col(\"min_distance\"),\n",
    "    col(\"DIVISION\").alias(\"division\")\n",
    ")\n",
    "\n",
    "# Υπολογισμός του αριθμού εγκλημάτων και της μέσης απόστασης ανά τμήμα\n",
    "result = crime_with_nearest_station.groupBy(\"division\") \\\n",
    "    .agg(\n",
    "        avg(\"min_distance\").alias(\"average_distance\"),\n",
    "        count(\"crime_id\").alias(\"#\")\n",
    "    ) \\\n",
    "    .orderBy(\"#\", ascending=False)\n",
    "\n",
    "# Εμφάνιση αποτελεσμάτων\n",
    "result.show(21)\n",
    "\n",
    "end_time = time.time()\n",
    "\n",
    "# Εμφάνιση χρόνου εκτέλεσης\n",
    "print(f\"Configuration 2 (4 executors * 2 cores/4GB memory) Execution Time: {(end_time - start_time):.2f} seconds\")"
   ]
  },
  {
   "cell_type": "code",
   "execution_count": 1,
   "id": "bc5263c3-8ff8-41c3-b989-41e03ab57511",
   "metadata": {
    "tags": []
   },
   "outputs": [
    {
     "data": {
      "text/html": [
       "Current session configs: <tt>{'conf': {'spark.sql.catalog.spark_catalog.type': 'hive', 'spark.executor.instances': '8', 'spark.executor.memory': '2g', 'spark.executor.cores': '1', 'spark.driver.memory': '2g'}, 'kind': 'pyspark'}</tt><br>"
      ],
      "text/plain": [
       "<IPython.core.display.HTML object>"
      ]
     },
     "metadata": {},
     "output_type": "display_data"
    },
    {
     "data": {
      "text/html": [
       "<table>\n",
       "<tr><th>ID</th><th>YARN Application ID</th><th>Kind</th><th>State</th><th>Spark UI</th><th>Driver log</th><th>User</th><th>Current session?</th></tr><tr><td>255</td><td>application_1738075734771_0256</td><td>pyspark</td><td>idle</td><td><a target=\"_blank\" href=\"http://ip-192-168-1-12.eu-central-1.compute.internal:20888/proxy/application_1738075734771_0256/\">Link</a></td><td><a target=\"_blank\" href=\"http://ip-192-168-1-86.eu-central-1.compute.internal:8042/node/containerlogs/container_1738075734771_0256_01_000001/livy\">Link</a></td><td>None</td><td></td></tr><tr><td>270</td><td>application_1738075734771_0271</td><td>pyspark</td><td>idle</td><td><a target=\"_blank\" href=\"http://ip-192-168-1-12.eu-central-1.compute.internal:20888/proxy/application_1738075734771_0271/\">Link</a></td><td><a target=\"_blank\" href=\"http://ip-192-168-1-72.eu-central-1.compute.internal:8042/node/containerlogs/container_1738075734771_0271_01_000001/livy\">Link</a></td><td>None</td><td></td></tr><tr><td>284</td><td>application_1738075734771_0285</td><td>pyspark</td><td>idle</td><td><a target=\"_blank\" href=\"http://ip-192-168-1-12.eu-central-1.compute.internal:20888/proxy/application_1738075734771_0285/\">Link</a></td><td><a target=\"_blank\" href=\"http://ip-192-168-1-137.eu-central-1.compute.internal:8042/node/containerlogs/container_1738075734771_0285_01_000001/livy\">Link</a></td><td>None</td><td></td></tr><tr><td>285</td><td>application_1738075734771_0286</td><td>pyspark</td><td>idle</td><td><a target=\"_blank\" href=\"http://ip-192-168-1-12.eu-central-1.compute.internal:20888/proxy/application_1738075734771_0286/\">Link</a></td><td><a target=\"_blank\" href=\"http://ip-192-168-1-194.eu-central-1.compute.internal:8042/node/containerlogs/container_1738075734771_0286_01_000001/livy\">Link</a></td><td>None</td><td></td></tr><tr><td>300</td><td>application_1738075734771_0301</td><td>pyspark</td><td>idle</td><td><a target=\"_blank\" href=\"http://ip-192-168-1-12.eu-central-1.compute.internal:20888/proxy/application_1738075734771_0301/\">Link</a></td><td><a target=\"_blank\" href=\"http://ip-192-168-1-241.eu-central-1.compute.internal:8042/node/containerlogs/container_1738075734771_0301_01_000001/livy\">Link</a></td><td>None</td><td></td></tr><tr><td>326</td><td>application_1738075734771_0327</td><td>pyspark</td><td>idle</td><td><a target=\"_blank\" href=\"http://ip-192-168-1-12.eu-central-1.compute.internal:20888/proxy/application_1738075734771_0327/\">Link</a></td><td><a target=\"_blank\" href=\"http://ip-192-168-1-241.eu-central-1.compute.internal:8042/node/containerlogs/container_1738075734771_0327_01_000002/livy\">Link</a></td><td>None</td><td></td></tr><tr><td>330</td><td>application_1738075734771_0331</td><td>pyspark</td><td>idle</td><td><a target=\"_blank\" href=\"http://ip-192-168-1-12.eu-central-1.compute.internal:20888/proxy/application_1738075734771_0331/\">Link</a></td><td><a target=\"_blank\" href=\"http://ip-192-168-1-194.eu-central-1.compute.internal:8042/node/containerlogs/container_1738075734771_0331_01_000001/livy\">Link</a></td><td>None</td><td></td></tr><tr><td>332</td><td>application_1738075734771_0333</td><td>pyspark</td><td>idle</td><td><a target=\"_blank\" href=\"http://ip-192-168-1-12.eu-central-1.compute.internal:20888/proxy/application_1738075734771_0333/\">Link</a></td><td><a target=\"_blank\" href=\"http://ip-192-168-1-32.eu-central-1.compute.internal:8042/node/containerlogs/container_1738075734771_0333_01_000001/livy\">Link</a></td><td>None</td><td></td></tr><tr><td>334</td><td>application_1738075734771_0335</td><td>pyspark</td><td>idle</td><td><a target=\"_blank\" href=\"http://ip-192-168-1-12.eu-central-1.compute.internal:20888/proxy/application_1738075734771_0335/\">Link</a></td><td><a target=\"_blank\" href=\"http://ip-192-168-1-75.eu-central-1.compute.internal:8042/node/containerlogs/container_1738075734771_0335_01_000001/livy\">Link</a></td><td>None</td><td></td></tr><tr><td>343</td><td>application_1738075734771_0344</td><td>pyspark</td><td>idle</td><td><a target=\"_blank\" href=\"http://ip-192-168-1-12.eu-central-1.compute.internal:20888/proxy/application_1738075734771_0344/\">Link</a></td><td><a target=\"_blank\" href=\"http://ip-192-168-1-194.eu-central-1.compute.internal:8042/node/containerlogs/container_1738075734771_0344_01_000002/livy\">Link</a></td><td>None</td><td></td></tr></table>"
      ],
      "text/plain": [
       "<IPython.core.display.HTML object>"
      ]
     },
     "metadata": {},
     "output_type": "display_data"
    }
   ],
   "source": [
    "%%configure -f\n",
    "{\n",
    "    \"conf\": {\n",
    "        \"spark.executor.instances\": \"8\",\n",
    "        \"spark.executor.memory\": \"2g\",\n",
    "        \"spark.executor.cores\": \"1\",\n",
    "        \"spark.driver.memory\": \"2g\"\n",
    "    }\n",
    "}"
   ]
  },
  {
   "cell_type": "code",
   "execution_count": 2,
   "id": "eec66475-0aac-432f-b1ab-c9567de5fe8a",
   "metadata": {
    "tags": []
   },
   "outputs": [
    {
     "name": "stdout",
     "output_type": "stream",
     "text": [
      "Starting Spark application\n"
     ]
    },
    {
     "data": {
      "text/html": [
       "<table>\n",
       "<tr><th>ID</th><th>YARN Application ID</th><th>Kind</th><th>State</th><th>Spark UI</th><th>Driver log</th><th>User</th><th>Current session?</th></tr><tr><td>351</td><td>application_1738075734771_0352</td><td>pyspark</td><td>idle</td><td><a target=\"_blank\" href=\"http://ip-192-168-1-12.eu-central-1.compute.internal:20888/proxy/application_1738075734771_0352/\">Link</a></td><td><a target=\"_blank\" href=\"http://ip-192-168-1-241.eu-central-1.compute.internal:8042/node/containerlogs/container_1738075734771_0352_01_000001/livy\">Link</a></td><td>None</td><td>✔</td></tr></table>"
      ],
      "text/plain": [
       "<IPython.core.display.HTML object>"
      ]
     },
     "metadata": {},
     "output_type": "display_data"
    },
    {
     "data": {
      "application/vnd.jupyter.widget-view+json": {
       "model_id": "",
       "version_major": 2,
       "version_minor": 0
      },
      "text/plain": [
       "FloatProgress(value=0.0, bar_style='info', description='Progress:', layout=Layout(height='25px', width='50%'),…"
      ]
     },
     "metadata": {},
     "output_type": "display_data"
    },
    {
     "name": "stdout",
     "output_type": "stream",
     "text": [
      "SparkSession available as 'spark'.\n"
     ]
    },
    {
     "data": {
      "application/vnd.jupyter.widget-view+json": {
       "model_id": "",
       "version_major": 2,
       "version_minor": 0
      },
      "text/plain": [
       "FloatProgress(value=0.0, bar_style='info', description='Progress:', layout=Layout(height='25px', width='50%'),…"
      ]
     },
     "metadata": {},
     "output_type": "display_data"
    },
    {
     "name": "stdout",
     "output_type": "stream",
     "text": [
      "+----------------+------------------+------+\n",
      "|        division|  average_distance|     #|\n",
      "+----------------+------------------+------+\n",
      "|       HOLLYWOOD|2.0762639601787227|224340|\n",
      "|        VAN NUYS|2.9533697428197816|210134|\n",
      "|       SOUTHWEST| 2.191398805780886|188901|\n",
      "|        WILSHIRE| 2.592665532978776|185996|\n",
      "|     77TH STREET|   1.7165449719701|171827|\n",
      "|         OLYMPIC|1.7236036971780937|170897|\n",
      "| NORTH HOLLYWOOD|2.6430060941415694|167854|\n",
      "|         PACIFIC| 3.850070655307899|161359|\n",
      "|         CENTRAL|0.9924764374568924|153871|\n",
      "|         RAMPART|1.5345341879190053|152736|\n",
      "|       SOUTHEAST| 2.421866215888183|152176|\n",
      "|     WEST VALLEY|3.0356712163140815|138643|\n",
      "|         TOPANGA| 3.296954841755555|138217|\n",
      "|        FOOTHILL| 4.250921708424992|134896|\n",
      "|          HARBOR|3.7025615993565077|126747|\n",
      "|      HOLLENBECK| 366.9213044614894|119294|\n",
      "|WEST LOS ANGELES|2.7924572890341124|115781|\n",
      "|          NEWTON|1.6346357397097449|111110|\n",
      "|       NORTHEAST|3.6236655246040748|108109|\n",
      "|         MISSION| 3.690942614278604|103355|\n",
      "|      DEVONSHIRE| 2.824765412800825| 77094|\n",
      "+----------------+------------------+------+\n",
      "\n",
      "Configuration 3 (8 executors * 1 cores/2GB memory) Execution Time: 47.69 seconds"
     ]
    }
   ],
   "source": [
    "from pyspark.sql import SparkSession\n",
    "from pyspark.sql.functions import col, count, avg, min\n",
    "from sedona.spark import *\n",
    "import time\n",
    "\n",
    "# Δημιουργία SparkSession\n",
    "spark = SparkSession.builder \\\n",
    "    .appName(\"Query 5\") \\\n",
    "    .getOrCreate()\n",
    "\n",
    "# Sedona Context για GeoJSON δεδομένα\n",
    "sedona = SedonaContext.create(spark)\n",
    "\n",
    "# Μέτρηση χρόνου\n",
    "start_time = time.time()\n",
    "\n",
    "# Φόρτωση δεδομένων\n",
    "crime_2010_2019_path = \"s3://initial-notebook-data-bucket-dblab-905418150721/CrimeData/Crime_Data_from_2010_to_2019_20241101.csv\"\n",
    "crime_2020_present_path = \"s3://initial-notebook-data-bucket-dblab-905418150721/CrimeData/Crime_Data_from_2020_to_Present_20241101.csv\"\n",
    "police_stations_path = \"s3://initial-notebook-data-bucket-dblab-905418150721/LA_Police_Stations.csv\"\n",
    "\n",
    "crime_df_2010_2019 = spark.read.csv(crime_2010_2019_path, header=True, inferSchema=True)\n",
    "crime_df_2020_present = spark.read.csv(crime_2020_present_path, header=True, inferSchema=True)\n",
    "crime_df = crime_df_2010_2019.union(crime_df_2020_present)\n",
    "police_stations_df = spark.read.csv(police_stations_path, header=True, inferSchema=True)\n",
    "\n",
    "# Δημιουργία γεωμετρικών αντικειμένων\n",
    "crime_data = crime_df.filter(col(\"LAT\").isNotNull() & col(\"LON\").isNotNull()) \\\n",
    "    .withColumn(\"crime_geometry\", ST_Point(col(\"LON\"), col(\"LAT\")))\n",
    "police_stations = police_stations_df.withColumn(\"station_geometry\", ST_Point(col(\"X\"), col(\"Y\")))\n",
    "\n",
    "# Υπολογισμός αποστάσεων για κάθε έγκλημα και αστυνομικό τμήμα\n",
    "crime_with_distances = crime_data.join(police_stations) \\\n",
    "    .withColumn(\"distance\", ST_DistanceSphere(col(\"crime_geometry\"), col(\"station_geometry\"))/1000) \n",
    "\n",
    "# Υπολογισμός της ελάχιστης απόστασης για κάθε έγκλημα\n",
    "min_distances = crime_with_distances.groupBy(\"DR_NO\") \\\n",
    "    .agg(min(\"distance\").alias(\"min_distance\"))\n",
    "\n",
    "# Μετονομασία της στήλης DR_NO στο crime_with_distances\n",
    "crime_with_distances = crime_with_distances.withColumnRenamed(\"DR_NO\", \"crime_DR_NO\")\n",
    "\n",
    "# Join για να βρούμε το πλησιέστερο αστυνομικό τμήμα\n",
    "crime_with_nearest_station = min_distances.join(\n",
    "    crime_with_distances,\n",
    "    (min_distances[\"DR_NO\"] == crime_with_distances[\"crime_DR_NO\"]) &\n",
    "    (min_distances[\"min_distance\"] == crime_with_distances[\"distance\"])\n",
    ").select(\n",
    "    col(\"DR_NO\").alias(\"crime_id\"),\n",
    "    col(\"min_distance\"),\n",
    "    col(\"DIVISION\").alias(\"division\")\n",
    ")\n",
    "\n",
    "# Υπολογισμός του αριθμού εγκλημάτων και της μέσης απόστασης ανά τμήμα\n",
    "result = crime_with_nearest_station.groupBy(\"division\") \\\n",
    "    .agg(\n",
    "        avg(\"min_distance\").alias(\"average_distance\"),\n",
    "        count(\"crime_id\").alias(\"#\")\n",
    "    ) \\\n",
    "    .orderBy(\"#\", ascending=False)\n",
    "\n",
    "# Εμφάνιση αποτελεσμάτων\n",
    "result.show(21)\n",
    "\n",
    "end_time = time.time()\n",
    "\n",
    "# Εμφάνιση χρόνου εκτέλεσης\n",
    "print(f\"Configuration 3 (8 executors * 1 cores/2GB memory) Execution Time: {(end_time - start_time):.2f} seconds\")"
   ]
  }
 ],
 "metadata": {
  "kernelspec": {
   "display_name": "Sparkmagic (PySpark)",
   "language": "python",
   "name": "pysparkkernel"
  },
  "language_info": {
   "codemirror_mode": {
    "name": "python",
    "version": 3
   },
   "file_extension": ".py",
   "mimetype": "text/x-python",
   "name": "pyspark",
   "pygments_lexer": "python3"
  }
 },
 "nbformat": 4,
 "nbformat_minor": 5
}
