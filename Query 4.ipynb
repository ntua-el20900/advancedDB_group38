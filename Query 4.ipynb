{
 "cells": [
  {
   "cell_type": "code",
   "execution_count": 1,
   "id": "738bb100-12f2-425a-9215-14daf3e11e14",
   "metadata": {
    "tags": []
   },
   "outputs": [
    {
     "data": {
      "text/html": [
       "Current session configs: <tt>{'conf': {'spark.sql.catalog.spark_catalog.type': 'hive', 'spark.executor.instances': '2', 'spark.executor.memory': '2g', 'spark.executor.cores': '1', 'spark.driver.memory': '2g'}, 'kind': 'pyspark'}</tt><br>"
      ],
      "text/plain": [
       "<IPython.core.display.HTML object>"
      ]
     },
     "metadata": {},
     "output_type": "display_data"
    },
    {
     "data": {
      "text/html": [
       "<table>\n",
       "<tr><th>ID</th><th>YARN Application ID</th><th>Kind</th><th>State</th><th>Spark UI</th><th>Driver log</th><th>User</th><th>Current session?</th></tr><tr><td>270</td><td>application_1738075734771_0271</td><td>pyspark</td><td>idle</td><td><a target=\"_blank\" href=\"http://ip-192-168-1-12.eu-central-1.compute.internal:20888/proxy/application_1738075734771_0271/\">Link</a></td><td><a target=\"_blank\" href=\"http://ip-192-168-1-72.eu-central-1.compute.internal:8042/node/containerlogs/container_1738075734771_0271_01_000001/livy\">Link</a></td><td>None</td><td></td></tr><tr><td>284</td><td>application_1738075734771_0285</td><td>pyspark</td><td>idle</td><td><a target=\"_blank\" href=\"http://ip-192-168-1-12.eu-central-1.compute.internal:20888/proxy/application_1738075734771_0285/\">Link</a></td><td><a target=\"_blank\" href=\"http://ip-192-168-1-137.eu-central-1.compute.internal:8042/node/containerlogs/container_1738075734771_0285_01_000001/livy\">Link</a></td><td>None</td><td></td></tr><tr><td>285</td><td>application_1738075734771_0286</td><td>pyspark</td><td>idle</td><td><a target=\"_blank\" href=\"http://ip-192-168-1-12.eu-central-1.compute.internal:20888/proxy/application_1738075734771_0286/\">Link</a></td><td><a target=\"_blank\" href=\"http://ip-192-168-1-194.eu-central-1.compute.internal:8042/node/containerlogs/container_1738075734771_0286_01_000001/livy\">Link</a></td><td>None</td><td></td></tr><tr><td>300</td><td>application_1738075734771_0301</td><td>pyspark</td><td>idle</td><td><a target=\"_blank\" href=\"http://ip-192-168-1-12.eu-central-1.compute.internal:20888/proxy/application_1738075734771_0301/\">Link</a></td><td><a target=\"_blank\" href=\"http://ip-192-168-1-241.eu-central-1.compute.internal:8042/node/containerlogs/container_1738075734771_0301_01_000001/livy\">Link</a></td><td>None</td><td></td></tr><tr><td>326</td><td>application_1738075734771_0327</td><td>pyspark</td><td>idle</td><td><a target=\"_blank\" href=\"http://ip-192-168-1-12.eu-central-1.compute.internal:20888/proxy/application_1738075734771_0327/\">Link</a></td><td><a target=\"_blank\" href=\"http://ip-192-168-1-241.eu-central-1.compute.internal:8042/node/containerlogs/container_1738075734771_0327_01_000002/livy\">Link</a></td><td>None</td><td></td></tr><tr><td>330</td><td>application_1738075734771_0331</td><td>pyspark</td><td>idle</td><td><a target=\"_blank\" href=\"http://ip-192-168-1-12.eu-central-1.compute.internal:20888/proxy/application_1738075734771_0331/\">Link</a></td><td><a target=\"_blank\" href=\"http://ip-192-168-1-194.eu-central-1.compute.internal:8042/node/containerlogs/container_1738075734771_0331_01_000001/livy\">Link</a></td><td>None</td><td></td></tr><tr><td>332</td><td>application_1738075734771_0333</td><td>pyspark</td><td>idle</td><td><a target=\"_blank\" href=\"http://ip-192-168-1-12.eu-central-1.compute.internal:20888/proxy/application_1738075734771_0333/\">Link</a></td><td><a target=\"_blank\" href=\"http://ip-192-168-1-32.eu-central-1.compute.internal:8042/node/containerlogs/container_1738075734771_0333_01_000001/livy\">Link</a></td><td>None</td><td></td></tr><tr><td>343</td><td>application_1738075734771_0344</td><td>pyspark</td><td>idle</td><td><a target=\"_blank\" href=\"http://ip-192-168-1-12.eu-central-1.compute.internal:20888/proxy/application_1738075734771_0344/\">Link</a></td><td><a target=\"_blank\" href=\"http://ip-192-168-1-194.eu-central-1.compute.internal:8042/node/containerlogs/container_1738075734771_0344_01_000002/livy\">Link</a></td><td>None</td><td></td></tr><tr><td>353</td><td>application_1738075734771_0354</td><td>pyspark</td><td>idle</td><td><a target=\"_blank\" href=\"http://ip-192-168-1-12.eu-central-1.compute.internal:20888/proxy/application_1738075734771_0354/\">Link</a></td><td><a target=\"_blank\" href=\"http://ip-192-168-1-194.eu-central-1.compute.internal:8042/node/containerlogs/container_1738075734771_0354_01_000001/livy\">Link</a></td><td>None</td><td></td></tr><tr><td>368</td><td>application_1738075734771_0369</td><td>pyspark</td><td>idle</td><td><a target=\"_blank\" href=\"http://ip-192-168-1-12.eu-central-1.compute.internal:20888/proxy/application_1738075734771_0369/\">Link</a></td><td><a target=\"_blank\" href=\"http://ip-192-168-1-194.eu-central-1.compute.internal:8042/node/containerlogs/container_1738075734771_0369_01_000001/livy\">Link</a></td><td>None</td><td></td></tr><tr><td>373</td><td>application_1738075734771_0374</td><td>pyspark</td><td>idle</td><td><a target=\"_blank\" href=\"http://ip-192-168-1-12.eu-central-1.compute.internal:20888/proxy/application_1738075734771_0374/\">Link</a></td><td><a target=\"_blank\" href=\"http://ip-192-168-1-115.eu-central-1.compute.internal:8042/node/containerlogs/container_1738075734771_0374_01_000001/livy\">Link</a></td><td>None</td><td></td></tr></table>"
      ],
      "text/plain": [
       "<IPython.core.display.HTML object>"
      ]
     },
     "metadata": {},
     "output_type": "display_data"
    }
   ],
   "source": [
    "%%configure -f\n",
    "{\n",
    "    \"conf\": {\n",
    "        \"spark.executor.instances\": \"2\",\n",
    "        \"spark.executor.memory\": \"2g\",\n",
    "        \"spark.executor.cores\": \"1\",\n",
    "        \"spark.driver.memory\": \"2g\"\n",
    "    }\n",
    "}"
   ]
  },
  {
   "cell_type": "code",
   "execution_count": 2,
   "id": "b85e3d45-cada-43b9-a102-6f4af40f3571",
   "metadata": {
    "tags": []
   },
   "outputs": [
    {
     "name": "stdout",
     "output_type": "stream",
     "text": [
      "Starting Spark application\n"
     ]
    },
    {
     "data": {
      "text/html": [
       "<table>\n",
       "<tr><th>ID</th><th>YARN Application ID</th><th>Kind</th><th>State</th><th>Spark UI</th><th>Driver log</th><th>User</th><th>Current session?</th></tr><tr><td>379</td><td>application_1738075734771_0380</td><td>pyspark</td><td>idle</td><td><a target=\"_blank\" href=\"http://ip-192-168-1-12.eu-central-1.compute.internal:20888/proxy/application_1738075734771_0380/\">Link</a></td><td><a target=\"_blank\" href=\"http://ip-192-168-1-220.eu-central-1.compute.internal:8042/node/containerlogs/container_1738075734771_0380_01_000001/livy\">Link</a></td><td>None</td><td>✔</td></tr></table>"
      ],
      "text/plain": [
       "<IPython.core.display.HTML object>"
      ]
     },
     "metadata": {},
     "output_type": "display_data"
    },
    {
     "data": {
      "application/vnd.jupyter.widget-view+json": {
       "model_id": "",
       "version_major": 2,
       "version_minor": 0
      },
      "text/plain": [
       "FloatProgress(value=0.0, bar_style='info', description='Progress:', layout=Layout(height='25px', width='50%'),…"
      ]
     },
     "metadata": {},
     "output_type": "display_data"
    },
    {
     "name": "stdout",
     "output_type": "stream",
     "text": [
      "SparkSession available as 'spark'.\n"
     ]
    },
    {
     "data": {
      "application/vnd.jupyter.widget-view+json": {
       "model_id": "",
       "version_major": 2,
       "version_minor": 0
      },
      "text/plain": [
       "FloatProgress(value=0.0, bar_style='info', description='Progress:', layout=Layout(height='25px', width='50%'),…"
      ]
     },
     "metadata": {},
     "output_type": "display_data"
    },
    {
     "name": "stdout",
     "output_type": "stream",
     "text": [
      "+------------------------------+---+\n",
      "|Victim Descent                |#  |\n",
      "+------------------------------+---+\n",
      "|White                         |695|\n",
      "|Other                         |86 |\n",
      "|Hispanic/Latin/Mexican        |77 |\n",
      "|Unknown                       |49 |\n",
      "|Black                         |43 |\n",
      "|Other Asian                   |22 |\n",
      "|Chinese                       |1  |\n",
      "|American Indian/Alaskan Native|1  |\n",
      "+------------------------------+---+\n",
      "\n",
      "+------------------------------+----+\n",
      "|Victim Descent                |#   |\n",
      "+------------------------------+----+\n",
      "|Hispanic/Latin/Mexican        |3342|\n",
      "|Black                         |1127|\n",
      "|White                         |428 |\n",
      "|Other                         |252 |\n",
      "|Other Asian                   |138 |\n",
      "|Unknown                       |30  |\n",
      "|American Indian/Alaskan Native|23  |\n",
      "|Korean                        |4   |\n",
      "|Filipino                      |3   |\n",
      "|Chinese                       |3   |\n",
      "|Guamanian                     |1   |\n",
      "|AsianIndian                   |1   |\n",
      "+------------------------------+----+\n",
      "\n",
      "Configuration 1 (2 executors * 1 cores/2GB memory) Execution Time: 76.40 seconds"
     ]
    }
   ],
   "source": [
    "from pyspark.sql import SparkSession\n",
    "from pyspark.sql.functions import col, count, sum, first, regexp_replace, concat, lit, lower, year, to_date\n",
    "from sedona.spark import *\n",
    "import time\n",
    "\n",
    "# Δημιουργία Spark Session\n",
    "spark = SparkSession.builder \\\n",
    "    .appName(\"Query 3\") \\\n",
    "    .getOrCreate()\n",
    "\n",
    "# Sedona Context για GeoJSON δεδομένα\n",
    "sedona = SedonaContext.create(spark)\n",
    "\n",
    "# Μέτρηση χρόνου\n",
    "start_time = time.time()\n",
    "\n",
    "# Φόρτωση δεδομένων\n",
    "crime_2010_2019_path = \"s3://initial-notebook-data-bucket-dblab-905418150721/CrimeData/Crime_Data_from_2010_to_2019_20241101.csv\"\n",
    "crime_2020_present_path = \"s3://initial-notebook-data-bucket-dblab-905418150721/CrimeData/Crime_Data_from_2020_to_Present_20241101.csv\"\n",
    "income_path = \"s3://initial-notebook-data-bucket-dblab-905418150721/LA_income_2015.csv\"\n",
    "geojson_path = \"s3://initial-notebook-data-bucket-dblab-905418150721/2010_Census_Blocks.geojson\"\n",
    "re_codes_path = \"s3://initial-notebook-data-bucket-dblab-905418150721/RE_codes.csv\"\n",
    "\n",
    "crime_df_2010_2019 = spark.read.csv(crime_2010_2019_path, header=True, inferSchema=True)\n",
    "crime_df_2020_present = spark.read.csv(crime_2020_present_path, header=True, inferSchema=True)\n",
    "crime_df = crime_df_2010_2019.union(crime_df_2020_present)\n",
    "income_df = spark.read.csv(income_path, header=True, inferSchema=True)\n",
    "re_codes_df = spark.read.csv(re_codes_path, header=True, inferSchema=True)\n",
    "\n",
    "# Φόρτωση και επεξεργασία GeoJSON δεδομένων\n",
    "blocks_df = sedona.read.format(\"geojson\") \\\n",
    "            .option(\"multiLine\", \"true\").load(geojson_path) \\\n",
    "            .selectExpr(\"explode(features) as features\") \\\n",
    "            .select(\"features.*\")\n",
    "\n",
    "flattened_df = blocks_df.select( \\\n",
    "                [col(f\"properties.{col_name}\").alias(col_name) for col_name in \\\n",
    "                blocks_df.schema[\"properties\"].dataType.fieldNames()] + [\"geometry\"]) \\\n",
    "            .drop(\"properties\") \\\n",
    "            .drop(\"type\")\n",
    "\n",
    "# Φιλτράρισμα των τετραγώνων του Los Angeles και επιλογή μόνο των επιθυμητών στηλών\n",
    "LA_blocks = flattened_df.filter(col(\"CITY\") == \"Los Angeles\") \\\n",
    "    .select(\"COMM\", \"HOUSING10\", \"POP_2010\", \"ZCTA10\", \"geometry\")\n",
    "\n",
    "# Αφαίρεση του \"$\" και οποιωνδήποτε κενών ή άλλων μη αριθμητικών χαρακτήρων\n",
    "income_df = income_df.withColumn(\n",
    "    \"Estimated Median Income\",\n",
    "    regexp_replace(col(\"Estimated Median Income\"), r\"[^0-9.]\", \"\").cast(\"double\")\n",
    ")\n",
    "\n",
    "# Δημιουργία γεωμετρικών σημείων για τα εγκλήματα με φιλτράρισμα για το έτος 2015\n",
    "crime_points_2015 = crime_df.filter(\n",
    "    (col(\"LAT\").isNotNull()) &\n",
    "    (col(\"LON\").isNotNull()) &\n",
    "    (year(to_date(col(\"DATE OCC\"), \"MM/dd/yyyy hh:mm:ss a\")) == 2015)\n",
    ").withColumn(\"geometry\", ST_Point(col(\"LON\"), col(\"LAT\"))) \\\n",
    " .select(\"geometry\", \"Vict Descent\")\n",
    "\n",
    "# Υπολογισμός κατα κεφαλήν εισοδήματος ανά περιοχή\n",
    "average_income_per_person = LA_blocks.join(\n",
    "    income_df,\n",
    "    LA_blocks[\"ZCTA10\"] == income_df[\"Zip Code\"],\n",
    "    \"inner\"\n",
    ").withColumn(\n",
    "    \"Total Income Per Block\",\n",
    "    (col(\"HOUSING10\") * col(\"Estimated Median Income\")).alias(\"Total Income Per Block\")\n",
    ").groupBy(\"COMM\").agg(\n",
    "    ST_Union_Aggr(\"geometry\").alias(\"geometry\"),\n",
    "    sum(\"Total Income Per Block\").alias(\"Total Income\"),\n",
    "    sum(\"POP_2010\").alias(\"Total Population\")\n",
    ").withColumn(\n",
    "    \"Avg Income Per Person ($)\",\n",
    "    (col(\"Total Income\") / col(\"Total Population\"))\n",
    ").select(\n",
    "    \"COMM\", \n",
    "    \"Avg Income Per Person ($)\",\n",
    "    \"geometry\"\n",
    ")\n",
    "\n",
    "#  3 περιοχές με το υψηλότερο κατά κεφαλήν εισόδημα\n",
    "top_3_income_blocks = average_income_per_person.orderBy(\"Avg Income Per Person ($)\", ascending=False).limit(3)\n",
    "\n",
    "#  3 περιοχές με το χαμηλότερο κατά κεφαλήν εισόδημα\n",
    "bottom_3_income_blocks = average_income_per_person.orderBy(\"Avg Income Per Person ($)\", ascending=True).limit(3)\n",
    "\n",
    "# Υπολογισμός αριθμού θυμάτων ανά φυλετικό γκρουπ για τις 3 περιοχές με το υψηλότερο κατά κεφαλήν εισόδημα\n",
    "victims_in_top_3_income_blocks = crime_points_2015.join(\n",
    "    top_3_income_blocks,\n",
    "    ST_Within(crime_points_2015[\"geometry\"], bottom_3_income_blocks[\"geometry\"]),\n",
    "    \"inner\"\n",
    ").groupBy(\"Vict Descent\").agg(\n",
    "    count(\"*\").alias(\"#\"),\n",
    ").join(\n",
    "    re_codes_df,\n",
    "    \"Vict Descent\",\n",
    "    \"inner\"\n",
    ").select(\n",
    "    col(\"Vict Descent Full\").alias(\"Victim Descent\"), \n",
    "    \"#\"\n",
    ").orderBy(\"#\", ascending=False)\n",
    "\n",
    "# Εμφάνιση αριθμού θυμάτων ανά φυλετικό γκρουπ για τις 3 περιοχές με το υψηλότερο κατά κεφαλήν εισόδημα\n",
    "victims_in_top_3_income_blocks.show(truncate=False)\n",
    "\n",
    "# Υπολογισμός αριθμού θυμάτων ανά φυλετικό γκρουπ για τις 3 περιοχές με το χαμηλότερο κατά κεφαλήν εισόδημα\n",
    "victims_in_bottom_3_income_blocks = crime_points_2015.join(\n",
    "    bottom_3_income_blocks,\n",
    "    ST_Within(crime_points_2015[\"geometry\"], bottom_3_income_blocks[\"geometry\"]),\n",
    "    \"inner\"\n",
    ").groupBy(\"Vict Descent\").agg(\n",
    "    count(\"*\").alias(\"#\"),\n",
    ").join(\n",
    "    re_codes_df,\n",
    "    \"Vict Descent\",\n",
    "    \"inner\"\n",
    ").select(\n",
    "    col(\"Vict Descent Full\").alias(\"Victim Descent\"), \n",
    "    \"#\"\n",
    ").orderBy(\"#\", ascending=False)\n",
    "\n",
    "# Εμφάνιση αριθμού θυμάτων ανά φυλετικό γκρουπ για τις 3 περιοχές με το χαμηλότερο κατά κεφαλήν εισόδημα\n",
    "victims_in_bottom_3_income_blocks.show(truncate=False)\n",
    "\n",
    "end_time = time.time()\n",
    "\n",
    "# Εμφάνιση χρόνου εκτέλεσης\n",
    "print(f\"Configuration 1 (2 executors * 1 cores/2GB memory) Execution Time: {(end_time - start_time):.2f} seconds\")"
   ]
  },
  {
   "cell_type": "code",
   "execution_count": 1,
   "id": "788f5e23-a94f-4059-9a69-1b96d2f58451",
   "metadata": {
    "tags": []
   },
   "outputs": [
    {
     "data": {
      "text/html": [
       "Current session configs: <tt>{'conf': {'spark.sql.catalog.spark_catalog.type': 'hive', 'spark.executor.instances': '2', 'spark.executor.memory': '4g', 'spark.executor.cores': '2', 'spark.driver.memory': '2g'}, 'kind': 'pyspark'}</tt><br>"
      ],
      "text/plain": [
       "<IPython.core.display.HTML object>"
      ]
     },
     "metadata": {},
     "output_type": "display_data"
    },
    {
     "data": {
      "text/html": [
       "<table>\n",
       "<tr><th>ID</th><th>YARN Application ID</th><th>Kind</th><th>State</th><th>Spark UI</th><th>Driver log</th><th>User</th><th>Current session?</th></tr><tr><td>270</td><td>application_1738075734771_0271</td><td>pyspark</td><td>idle</td><td><a target=\"_blank\" href=\"http://ip-192-168-1-12.eu-central-1.compute.internal:20888/proxy/application_1738075734771_0271/\">Link</a></td><td><a target=\"_blank\" href=\"http://ip-192-168-1-72.eu-central-1.compute.internal:8042/node/containerlogs/container_1738075734771_0271_01_000001/livy\">Link</a></td><td>None</td><td></td></tr><tr><td>284</td><td>application_1738075734771_0285</td><td>pyspark</td><td>idle</td><td><a target=\"_blank\" href=\"http://ip-192-168-1-12.eu-central-1.compute.internal:20888/proxy/application_1738075734771_0285/\">Link</a></td><td><a target=\"_blank\" href=\"http://ip-192-168-1-137.eu-central-1.compute.internal:8042/node/containerlogs/container_1738075734771_0285_01_000001/livy\">Link</a></td><td>None</td><td></td></tr><tr><td>285</td><td>application_1738075734771_0286</td><td>pyspark</td><td>idle</td><td><a target=\"_blank\" href=\"http://ip-192-168-1-12.eu-central-1.compute.internal:20888/proxy/application_1738075734771_0286/\">Link</a></td><td><a target=\"_blank\" href=\"http://ip-192-168-1-194.eu-central-1.compute.internal:8042/node/containerlogs/container_1738075734771_0286_01_000001/livy\">Link</a></td><td>None</td><td></td></tr><tr><td>300</td><td>application_1738075734771_0301</td><td>pyspark</td><td>idle</td><td><a target=\"_blank\" href=\"http://ip-192-168-1-12.eu-central-1.compute.internal:20888/proxy/application_1738075734771_0301/\">Link</a></td><td><a target=\"_blank\" href=\"http://ip-192-168-1-241.eu-central-1.compute.internal:8042/node/containerlogs/container_1738075734771_0301_01_000001/livy\">Link</a></td><td>None</td><td></td></tr><tr><td>326</td><td>application_1738075734771_0327</td><td>pyspark</td><td>idle</td><td><a target=\"_blank\" href=\"http://ip-192-168-1-12.eu-central-1.compute.internal:20888/proxy/application_1738075734771_0327/\">Link</a></td><td><a target=\"_blank\" href=\"http://ip-192-168-1-241.eu-central-1.compute.internal:8042/node/containerlogs/container_1738075734771_0327_01_000002/livy\">Link</a></td><td>None</td><td></td></tr><tr><td>330</td><td>application_1738075734771_0331</td><td>pyspark</td><td>idle</td><td><a target=\"_blank\" href=\"http://ip-192-168-1-12.eu-central-1.compute.internal:20888/proxy/application_1738075734771_0331/\">Link</a></td><td><a target=\"_blank\" href=\"http://ip-192-168-1-194.eu-central-1.compute.internal:8042/node/containerlogs/container_1738075734771_0331_01_000001/livy\">Link</a></td><td>None</td><td></td></tr><tr><td>332</td><td>application_1738075734771_0333</td><td>pyspark</td><td>idle</td><td><a target=\"_blank\" href=\"http://ip-192-168-1-12.eu-central-1.compute.internal:20888/proxy/application_1738075734771_0333/\">Link</a></td><td><a target=\"_blank\" href=\"http://ip-192-168-1-32.eu-central-1.compute.internal:8042/node/containerlogs/container_1738075734771_0333_01_000001/livy\">Link</a></td><td>None</td><td></td></tr><tr><td>334</td><td>application_1738075734771_0335</td><td>pyspark</td><td>idle</td><td><a target=\"_blank\" href=\"http://ip-192-168-1-12.eu-central-1.compute.internal:20888/proxy/application_1738075734771_0335/\">Link</a></td><td><a target=\"_blank\" href=\"http://ip-192-168-1-75.eu-central-1.compute.internal:8042/node/containerlogs/container_1738075734771_0335_01_000001/livy\">Link</a></td><td>None</td><td></td></tr><tr><td>343</td><td>application_1738075734771_0344</td><td>pyspark</td><td>idle</td><td><a target=\"_blank\" href=\"http://ip-192-168-1-12.eu-central-1.compute.internal:20888/proxy/application_1738075734771_0344/\">Link</a></td><td><a target=\"_blank\" href=\"http://ip-192-168-1-194.eu-central-1.compute.internal:8042/node/containerlogs/container_1738075734771_0344_01_000002/livy\">Link</a></td><td>None</td><td></td></tr><tr><td>353</td><td>application_1738075734771_0354</td><td>pyspark</td><td>idle</td><td><a target=\"_blank\" href=\"http://ip-192-168-1-12.eu-central-1.compute.internal:20888/proxy/application_1738075734771_0354/\">Link</a></td><td><a target=\"_blank\" href=\"http://ip-192-168-1-194.eu-central-1.compute.internal:8042/node/containerlogs/container_1738075734771_0354_01_000001/livy\">Link</a></td><td>None</td><td></td></tr></table>"
      ],
      "text/plain": [
       "<IPython.core.display.HTML object>"
      ]
     },
     "metadata": {},
     "output_type": "display_data"
    }
   ],
   "source": [
    "%%configure -f\n",
    "{\n",
    "    \"conf\": {\n",
    "        \"spark.executor.instances\": \"2\",\n",
    "        \"spark.executor.memory\": \"4g\",\n",
    "        \"spark.executor.cores\": \"2\",\n",
    "        \"spark.driver.memory\": \"2g\"\n",
    "    }\n",
    "}"
   ]
  },
  {
   "cell_type": "code",
   "execution_count": 2,
   "id": "b2ce3dc1-308f-4a40-9c94-f45d6d0247af",
   "metadata": {
    "tags": []
   },
   "outputs": [
    {
     "name": "stdout",
     "output_type": "stream",
     "text": [
      "Starting Spark application\n"
     ]
    },
    {
     "data": {
      "text/html": [
       "<table>\n",
       "<tr><th>ID</th><th>YARN Application ID</th><th>Kind</th><th>State</th><th>Spark UI</th><th>Driver log</th><th>User</th><th>Current session?</th></tr><tr><td>364</td><td>application_1738075734771_0365</td><td>pyspark</td><td>idle</td><td><a target=\"_blank\" href=\"http://ip-192-168-1-12.eu-central-1.compute.internal:20888/proxy/application_1738075734771_0365/\">Link</a></td><td><a target=\"_blank\" href=\"http://ip-192-168-1-241.eu-central-1.compute.internal:8042/node/containerlogs/container_1738075734771_0365_01_000001/livy\">Link</a></td><td>None</td><td>✔</td></tr></table>"
      ],
      "text/plain": [
       "<IPython.core.display.HTML object>"
      ]
     },
     "metadata": {},
     "output_type": "display_data"
    },
    {
     "data": {
      "application/vnd.jupyter.widget-view+json": {
       "model_id": "",
       "version_major": 2,
       "version_minor": 0
      },
      "text/plain": [
       "FloatProgress(value=0.0, bar_style='info', description='Progress:', layout=Layout(height='25px', width='50%'),…"
      ]
     },
     "metadata": {},
     "output_type": "display_data"
    },
    {
     "name": "stdout",
     "output_type": "stream",
     "text": [
      "SparkSession available as 'spark'.\n"
     ]
    },
    {
     "data": {
      "application/vnd.jupyter.widget-view+json": {
       "model_id": "",
       "version_major": 2,
       "version_minor": 0
      },
      "text/plain": [
       "FloatProgress(value=0.0, bar_style='info', description='Progress:', layout=Layout(height='25px', width='50%'),…"
      ]
     },
     "metadata": {},
     "output_type": "display_data"
    },
    {
     "name": "stdout",
     "output_type": "stream",
     "text": [
      "+------------------------------+---+\n",
      "|Victim Descent                |#  |\n",
      "+------------------------------+---+\n",
      "|White                         |695|\n",
      "|Other                         |86 |\n",
      "|Hispanic/Latin/Mexican        |77 |\n",
      "|Unknown                       |49 |\n",
      "|Black                         |43 |\n",
      "|Other Asian                   |22 |\n",
      "|Chinese                       |1  |\n",
      "|American Indian/Alaskan Native|1  |\n",
      "+------------------------------+---+\n",
      "\n",
      "+------------------------------+----+\n",
      "|Victim Descent                |#   |\n",
      "+------------------------------+----+\n",
      "|Hispanic/Latin/Mexican        |3342|\n",
      "|Black                         |1127|\n",
      "|White                         |428 |\n",
      "|Other                         |252 |\n",
      "|Other Asian                   |138 |\n",
      "|Unknown                       |30  |\n",
      "|American Indian/Alaskan Native|23  |\n",
      "|Korean                        |4   |\n",
      "|Filipino                      |3   |\n",
      "|Chinese                       |3   |\n",
      "|AsianIndian                   |1   |\n",
      "|Guamanian                     |1   |\n",
      "+------------------------------+----+\n",
      "\n",
      "Configuration 2 (2 executors * 2 cores/4GB memory) Execution Time: 57.47 seconds"
     ]
    }
   ],
   "source": [
    "from pyspark.sql import SparkSession\n",
    "from pyspark.sql.functions import col, count, sum, first, regexp_replace, concat, lit, lower, year, to_date\n",
    "from sedona.spark import *\n",
    "import time\n",
    "\n",
    "# Δημιουργία Spark Session\n",
    "spark = SparkSession.builder \\\n",
    "    .appName(\"Query 3\") \\\n",
    "    .getOrCreate()\n",
    "\n",
    "# Sedona Context για GeoJSON δεδομένα\n",
    "sedona = SedonaContext.create(spark)\n",
    "\n",
    "# Μέτρηση χρόνου\n",
    "start_time = time.time()\n",
    "\n",
    "# Φόρτωση δεδομένων\n",
    "crime_2010_2019_path = \"s3://initial-notebook-data-bucket-dblab-905418150721/CrimeData/Crime_Data_from_2010_to_2019_20241101.csv\"\n",
    "crime_2020_present_path = \"s3://initial-notebook-data-bucket-dblab-905418150721/CrimeData/Crime_Data_from_2020_to_Present_20241101.csv\"\n",
    "income_path = \"s3://initial-notebook-data-bucket-dblab-905418150721/LA_income_2015.csv\"\n",
    "geojson_path = \"s3://initial-notebook-data-bucket-dblab-905418150721/2010_Census_Blocks.geojson\"\n",
    "re_codes_path = \"s3://initial-notebook-data-bucket-dblab-905418150721/RE_codes.csv\"\n",
    "\n",
    "crime_df_2010_2019 = spark.read.csv(crime_2010_2019_path, header=True, inferSchema=True)\n",
    "crime_df_2020_present = spark.read.csv(crime_2020_present_path, header=True, inferSchema=True)\n",
    "crime_df = crime_df_2010_2019.union(crime_df_2020_present)\n",
    "income_df = spark.read.csv(income_path, header=True, inferSchema=True)\n",
    "re_codes_df = spark.read.csv(re_codes_path, header=True, inferSchema=True)\n",
    "\n",
    "# Φόρτωση και επεξεργασία GeoJSON δεδομένων\n",
    "blocks_df = sedona.read.format(\"geojson\") \\\n",
    "            .option(\"multiLine\", \"true\").load(geojson_path) \\\n",
    "            .selectExpr(\"explode(features) as features\") \\\n",
    "            .select(\"features.*\")\n",
    "\n",
    "flattened_df = blocks_df.select( \\\n",
    "                [col(f\"properties.{col_name}\").alias(col_name) for col_name in \\\n",
    "                blocks_df.schema[\"properties\"].dataType.fieldNames()] + [\"geometry\"]) \\\n",
    "            .drop(\"properties\") \\\n",
    "            .drop(\"type\")\n",
    "\n",
    "# Φιλτράρισμα των τετραγώνων του Los Angeles και επιλογή μόνο των επιθυμητών στηλών\n",
    "LA_blocks = flattened_df.filter(col(\"CITY\") == \"Los Angeles\") \\\n",
    "    .select(\"COMM\", \"HOUSING10\", \"POP_2010\", \"ZCTA10\", \"geometry\")\n",
    "\n",
    "# Αφαίρεση του \"$\" και οποιωνδήποτε κενών ή άλλων μη αριθμητικών χαρακτήρων\n",
    "income_df = income_df.withColumn(\n",
    "    \"Estimated Median Income\",\n",
    "    regexp_replace(col(\"Estimated Median Income\"), r\"[^0-9.]\", \"\").cast(\"double\")\n",
    ")\n",
    "\n",
    "# Δημιουργία γεωμετρικών σημείων για τα εγκλήματα με φιλτράρισμα για το έτος 2015\n",
    "crime_points_2015 = crime_df.filter(\n",
    "    (col(\"LAT\").isNotNull()) &\n",
    "    (col(\"LON\").isNotNull()) &\n",
    "    (year(to_date(col(\"DATE OCC\"), \"MM/dd/yyyy hh:mm:ss a\")) == 2015)\n",
    ").withColumn(\"geometry\", ST_Point(col(\"LON\"), col(\"LAT\"))) \\\n",
    " .select(\"geometry\", \"Vict Descent\")\n",
    "\n",
    "# Υπολογισμός κατα κεφαλήν εισοδήματος ανά περιοχή\n",
    "average_income_per_person = LA_blocks.join(\n",
    "    income_df,\n",
    "    LA_blocks[\"ZCTA10\"] == income_df[\"Zip Code\"],\n",
    "    \"inner\"\n",
    ").withColumn(\n",
    "    \"Total Income Per Block\",\n",
    "    (col(\"HOUSING10\") * col(\"Estimated Median Income\")).alias(\"Total Income Per Block\")\n",
    ").groupBy(\"COMM\").agg(\n",
    "    ST_Union_Aggr(\"geometry\").alias(\"geometry\"),\n",
    "    sum(\"Total Income Per Block\").alias(\"Total Income\"),\n",
    "    sum(\"POP_2010\").alias(\"Total Population\")\n",
    ").withColumn(\n",
    "    \"Avg Income Per Person ($)\",\n",
    "    (col(\"Total Income\") / col(\"Total Population\"))\n",
    ").select(\n",
    "    \"COMM\", \n",
    "    \"Avg Income Per Person ($)\",\n",
    "    \"geometry\"\n",
    ")\n",
    "\n",
    "#  3 περιοχές με το υψηλότερο κατά κεφαλήν εισόδημα\n",
    "top_3_income_blocks = average_income_per_person.orderBy(\"Avg Income Per Person ($)\", ascending=False).limit(3)\n",
    "\n",
    "#  3 περιοχές με το χαμηλότερο κατά κεφαλήν εισόδημα\n",
    "bottom_3_income_blocks = average_income_per_person.orderBy(\"Avg Income Per Person ($)\", ascending=True).limit(3)\n",
    "\n",
    "# Υπολογισμός αριθμού θυμάτων ανά φυλετικό γκρουπ για τις 3 περιοχές με το υψηλότερο κατά κεφαλήν εισόδημα\n",
    "victims_in_top_3_income_blocks = crime_points_2015.join(\n",
    "    top_3_income_blocks,\n",
    "    ST_Within(crime_points_2015[\"geometry\"], bottom_3_income_blocks[\"geometry\"]),\n",
    "    \"inner\"\n",
    ").groupBy(\"Vict Descent\").agg(\n",
    "    count(\"*\").alias(\"#\"),\n",
    ").join(\n",
    "    re_codes_df,\n",
    "    \"Vict Descent\",\n",
    "    \"inner\"\n",
    ").select(\n",
    "    col(\"Vict Descent Full\").alias(\"Victim Descent\"), \n",
    "    \"#\"\n",
    ").orderBy(\"#\", ascending=False)\n",
    "\n",
    "# Εμφάνιση αριθμού θυμάτων ανά φυλετικό γκρουπ για τις 3 περιοχές με το υψηλότερο κατά κεφαλήν εισόδημα\n",
    "victims_in_top_3_income_blocks.show(truncate=False)\n",
    "\n",
    "# Υπολογισμός αριθμού θυμάτων ανά φυλετικό γκρουπ για τις 3 περιοχές με το χαμηλότερο κατά κεφαλήν εισόδημα\n",
    "victims_in_bottom_3_income_blocks = crime_points_2015.join(\n",
    "    bottom_3_income_blocks,\n",
    "    ST_Within(crime_points_2015[\"geometry\"], bottom_3_income_blocks[\"geometry\"]),\n",
    "    \"inner\"\n",
    ").groupBy(\"Vict Descent\").agg(\n",
    "    count(\"*\").alias(\"#\"),\n",
    ").join(\n",
    "    re_codes_df,\n",
    "    \"Vict Descent\",\n",
    "    \"inner\"\n",
    ").select(\n",
    "    col(\"Vict Descent Full\").alias(\"Victim Descent\"), \n",
    "    \"#\"\n",
    ").orderBy(\"#\", ascending=False)\n",
    "\n",
    "# Εμφάνιση αριθμού θυμάτων ανά φυλετικό γκρουπ για τις 3 περιοχές με το χαμηλότερο κατά κεφαλήν εισόδημα\n",
    "victims_in_bottom_3_income_blocks.show(truncate=False)\n",
    "\n",
    "end_time = time.time()\n",
    "\n",
    "# Εμφάνιση χρόνου εκτέλεσης\n",
    "print(f\"Configuration 2 (2 executors * 2 cores/4GB memory) Execution Time: {(end_time - start_time):.2f} seconds\")"
   ]
  },
  {
   "cell_type": "code",
   "execution_count": 1,
   "id": "b6438759-f4b6-4899-a15b-44d9c8eae050",
   "metadata": {
    "tags": []
   },
   "outputs": [
    {
     "data": {
      "text/html": [
       "Current session configs: <tt>{'conf': {'spark.sql.catalog.spark_catalog.type': 'hive', 'spark.executor.instances': '2', 'spark.executor.memory': '8g', 'spark.executor.cores': '4', 'spark.driver.memory': '2g'}, 'kind': 'pyspark'}</tt><br>"
      ],
      "text/plain": [
       "<IPython.core.display.HTML object>"
      ]
     },
     "metadata": {},
     "output_type": "display_data"
    },
    {
     "data": {
      "text/html": [
       "<table>\n",
       "<tr><th>ID</th><th>YARN Application ID</th><th>Kind</th><th>State</th><th>Spark UI</th><th>Driver log</th><th>User</th><th>Current session?</th></tr><tr><td>270</td><td>application_1738075734771_0271</td><td>pyspark</td><td>idle</td><td><a target=\"_blank\" href=\"http://ip-192-168-1-12.eu-central-1.compute.internal:20888/proxy/application_1738075734771_0271/\">Link</a></td><td><a target=\"_blank\" href=\"http://ip-192-168-1-72.eu-central-1.compute.internal:8042/node/containerlogs/container_1738075734771_0271_01_000001/livy\">Link</a></td><td>None</td><td></td></tr><tr><td>284</td><td>application_1738075734771_0285</td><td>pyspark</td><td>idle</td><td><a target=\"_blank\" href=\"http://ip-192-168-1-12.eu-central-1.compute.internal:20888/proxy/application_1738075734771_0285/\">Link</a></td><td><a target=\"_blank\" href=\"http://ip-192-168-1-137.eu-central-1.compute.internal:8042/node/containerlogs/container_1738075734771_0285_01_000001/livy\">Link</a></td><td>None</td><td></td></tr><tr><td>285</td><td>application_1738075734771_0286</td><td>pyspark</td><td>idle</td><td><a target=\"_blank\" href=\"http://ip-192-168-1-12.eu-central-1.compute.internal:20888/proxy/application_1738075734771_0286/\">Link</a></td><td><a target=\"_blank\" href=\"http://ip-192-168-1-194.eu-central-1.compute.internal:8042/node/containerlogs/container_1738075734771_0286_01_000001/livy\">Link</a></td><td>None</td><td></td></tr><tr><td>300</td><td>application_1738075734771_0301</td><td>pyspark</td><td>idle</td><td><a target=\"_blank\" href=\"http://ip-192-168-1-12.eu-central-1.compute.internal:20888/proxy/application_1738075734771_0301/\">Link</a></td><td><a target=\"_blank\" href=\"http://ip-192-168-1-241.eu-central-1.compute.internal:8042/node/containerlogs/container_1738075734771_0301_01_000001/livy\">Link</a></td><td>None</td><td></td></tr><tr><td>326</td><td>application_1738075734771_0327</td><td>pyspark</td><td>idle</td><td><a target=\"_blank\" href=\"http://ip-192-168-1-12.eu-central-1.compute.internal:20888/proxy/application_1738075734771_0327/\">Link</a></td><td><a target=\"_blank\" href=\"http://ip-192-168-1-241.eu-central-1.compute.internal:8042/node/containerlogs/container_1738075734771_0327_01_000002/livy\">Link</a></td><td>None</td><td></td></tr><tr><td>330</td><td>application_1738075734771_0331</td><td>pyspark</td><td>idle</td><td><a target=\"_blank\" href=\"http://ip-192-168-1-12.eu-central-1.compute.internal:20888/proxy/application_1738075734771_0331/\">Link</a></td><td><a target=\"_blank\" href=\"http://ip-192-168-1-194.eu-central-1.compute.internal:8042/node/containerlogs/container_1738075734771_0331_01_000001/livy\">Link</a></td><td>None</td><td></td></tr><tr><td>332</td><td>application_1738075734771_0333</td><td>pyspark</td><td>idle</td><td><a target=\"_blank\" href=\"http://ip-192-168-1-12.eu-central-1.compute.internal:20888/proxy/application_1738075734771_0333/\">Link</a></td><td><a target=\"_blank\" href=\"http://ip-192-168-1-32.eu-central-1.compute.internal:8042/node/containerlogs/container_1738075734771_0333_01_000001/livy\">Link</a></td><td>None</td><td></td></tr><tr><td>334</td><td>application_1738075734771_0335</td><td>pyspark</td><td>idle</td><td><a target=\"_blank\" href=\"http://ip-192-168-1-12.eu-central-1.compute.internal:20888/proxy/application_1738075734771_0335/\">Link</a></td><td><a target=\"_blank\" href=\"http://ip-192-168-1-75.eu-central-1.compute.internal:8042/node/containerlogs/container_1738075734771_0335_01_000001/livy\">Link</a></td><td>None</td><td></td></tr><tr><td>343</td><td>application_1738075734771_0344</td><td>pyspark</td><td>idle</td><td><a target=\"_blank\" href=\"http://ip-192-168-1-12.eu-central-1.compute.internal:20888/proxy/application_1738075734771_0344/\">Link</a></td><td><a target=\"_blank\" href=\"http://ip-192-168-1-194.eu-central-1.compute.internal:8042/node/containerlogs/container_1738075734771_0344_01_000002/livy\">Link</a></td><td>None</td><td></td></tr><tr><td>353</td><td>application_1738075734771_0354</td><td>pyspark</td><td>idle</td><td><a target=\"_blank\" href=\"http://ip-192-168-1-12.eu-central-1.compute.internal:20888/proxy/application_1738075734771_0354/\">Link</a></td><td><a target=\"_blank\" href=\"http://ip-192-168-1-194.eu-central-1.compute.internal:8042/node/containerlogs/container_1738075734771_0354_01_000001/livy\">Link</a></td><td>None</td><td></td></tr></table>"
      ],
      "text/plain": [
       "<IPython.core.display.HTML object>"
      ]
     },
     "metadata": {},
     "output_type": "display_data"
    }
   ],
   "source": [
    "%%configure -f\n",
    "{\n",
    "    \"conf\": {\n",
    "        \"spark.executor.instances\": \"2\",\n",
    "        \"spark.executor.memory\": \"8g\",\n",
    "        \"spark.executor.cores\": \"4\",\n",
    "        \"spark.driver.memory\": \"2g\"\n",
    "    }\n",
    "}"
   ]
  },
  {
   "cell_type": "code",
   "execution_count": 2,
   "id": "93bb007a-746c-4a99-8edc-38c7d395f7f4",
   "metadata": {
    "tags": []
   },
   "outputs": [
    {
     "name": "stdout",
     "output_type": "stream",
     "text": [
      "Starting Spark application\n"
     ]
    },
    {
     "data": {
      "text/html": [
       "<table>\n",
       "<tr><th>ID</th><th>YARN Application ID</th><th>Kind</th><th>State</th><th>Spark UI</th><th>Driver log</th><th>User</th><th>Current session?</th></tr><tr><td>367</td><td>application_1738075734771_0368</td><td>pyspark</td><td>idle</td><td><a target=\"_blank\" href=\"http://ip-192-168-1-12.eu-central-1.compute.internal:20888/proxy/application_1738075734771_0368/\">Link</a></td><td><a target=\"_blank\" href=\"http://ip-192-168-1-220.eu-central-1.compute.internal:8042/node/containerlogs/container_1738075734771_0368_01_000001/livy\">Link</a></td><td>None</td><td>✔</td></tr></table>"
      ],
      "text/plain": [
       "<IPython.core.display.HTML object>"
      ]
     },
     "metadata": {},
     "output_type": "display_data"
    },
    {
     "data": {
      "application/vnd.jupyter.widget-view+json": {
       "model_id": "",
       "version_major": 2,
       "version_minor": 0
      },
      "text/plain": [
       "FloatProgress(value=0.0, bar_style='info', description='Progress:', layout=Layout(height='25px', width='50%'),…"
      ]
     },
     "metadata": {},
     "output_type": "display_data"
    },
    {
     "name": "stdout",
     "output_type": "stream",
     "text": [
      "SparkSession available as 'spark'.\n"
     ]
    },
    {
     "data": {
      "application/vnd.jupyter.widget-view+json": {
       "model_id": "",
       "version_major": 2,
       "version_minor": 0
      },
      "text/plain": [
       "FloatProgress(value=0.0, bar_style='info', description='Progress:', layout=Layout(height='25px', width='50%'),…"
      ]
     },
     "metadata": {},
     "output_type": "display_data"
    },
    {
     "name": "stdout",
     "output_type": "stream",
     "text": [
      "+------------------------------+---+\n",
      "|Victim Descent                |#  |\n",
      "+------------------------------+---+\n",
      "|White                         |695|\n",
      "|Other                         |86 |\n",
      "|Hispanic/Latin/Mexican        |77 |\n",
      "|Unknown                       |49 |\n",
      "|Black                         |43 |\n",
      "|Other Asian                   |22 |\n",
      "|American Indian/Alaskan Native|1  |\n",
      "|Chinese                       |1  |\n",
      "+------------------------------+---+\n",
      "\n",
      "+------------------------------+----+\n",
      "|Victim Descent                |#   |\n",
      "+------------------------------+----+\n",
      "|Hispanic/Latin/Mexican        |3342|\n",
      "|Black                         |1127|\n",
      "|White                         |428 |\n",
      "|Other                         |252 |\n",
      "|Other Asian                   |138 |\n",
      "|Unknown                       |30  |\n",
      "|American Indian/Alaskan Native|23  |\n",
      "|Korean                        |4   |\n",
      "|Filipino                      |3   |\n",
      "|Chinese                       |3   |\n",
      "|AsianIndian                   |1   |\n",
      "|Guamanian                     |1   |\n",
      "+------------------------------+----+\n",
      "\n",
      "Configuration 3 (2 executors * 4 cores/8GB memory) Execution Time: 53.57 seconds"
     ]
    }
   ],
   "source": [
    "from pyspark.sql import SparkSession\n",
    "from pyspark.sql.functions import col, count, sum, first, regexp_replace, concat, lit, lower, year, to_date\n",
    "from sedona.spark import *\n",
    "import time\n",
    "\n",
    "# Δημιουργία Spark Session\n",
    "spark = SparkSession.builder \\\n",
    "    .appName(\"Query 3\") \\\n",
    "    .getOrCreate()\n",
    "\n",
    "# Sedona Context για GeoJSON δεδομένα\n",
    "sedona = SedonaContext.create(spark)\n",
    "\n",
    "# Μέτρηση χρόνου\n",
    "start_time = time.time()\n",
    "\n",
    "# Φόρτωση δεδομένων\n",
    "crime_2010_2019_path = \"s3://initial-notebook-data-bucket-dblab-905418150721/CrimeData/Crime_Data_from_2010_to_2019_20241101.csv\"\n",
    "crime_2020_present_path = \"s3://initial-notebook-data-bucket-dblab-905418150721/CrimeData/Crime_Data_from_2020_to_Present_20241101.csv\"\n",
    "income_path = \"s3://initial-notebook-data-bucket-dblab-905418150721/LA_income_2015.csv\"\n",
    "geojson_path = \"s3://initial-notebook-data-bucket-dblab-905418150721/2010_Census_Blocks.geojson\"\n",
    "re_codes_path = \"s3://initial-notebook-data-bucket-dblab-905418150721/RE_codes.csv\"\n",
    "\n",
    "crime_df_2010_2019 = spark.read.csv(crime_2010_2019_path, header=True, inferSchema=True)\n",
    "crime_df_2020_present = spark.read.csv(crime_2020_present_path, header=True, inferSchema=True)\n",
    "crime_df = crime_df_2010_2019.union(crime_df_2020_present)\n",
    "income_df = spark.read.csv(income_path, header=True, inferSchema=True)\n",
    "re_codes_df = spark.read.csv(re_codes_path, header=True, inferSchema=True)\n",
    "\n",
    "# Φόρτωση και επεξεργασία GeoJSON δεδομένων\n",
    "blocks_df = sedona.read.format(\"geojson\") \\\n",
    "            .option(\"multiLine\", \"true\").load(geojson_path) \\\n",
    "            .selectExpr(\"explode(features) as features\") \\\n",
    "            .select(\"features.*\")\n",
    "\n",
    "flattened_df = blocks_df.select( \\\n",
    "                [col(f\"properties.{col_name}\").alias(col_name) for col_name in \\\n",
    "                blocks_df.schema[\"properties\"].dataType.fieldNames()] + [\"geometry\"]) \\\n",
    "            .drop(\"properties\") \\\n",
    "            .drop(\"type\")\n",
    "\n",
    "# Φιλτράρισμα των τετραγώνων του Los Angeles και επιλογή μόνο των επιθυμητών στηλών\n",
    "LA_blocks = flattened_df.filter(col(\"CITY\") == \"Los Angeles\") \\\n",
    "    .select(\"COMM\", \"HOUSING10\", \"POP_2010\", \"ZCTA10\", \"geometry\")\n",
    "\n",
    "# Αφαίρεση του \"$\" και οποιωνδήποτε κενών ή άλλων μη αριθμητικών χαρακτήρων\n",
    "income_df = income_df.withColumn(\n",
    "    \"Estimated Median Income\",\n",
    "    regexp_replace(col(\"Estimated Median Income\"), r\"[^0-9.]\", \"\").cast(\"double\")\n",
    ")\n",
    "\n",
    "# Δημιουργία γεωμετρικών σημείων για τα εγκλήματα με φιλτράρισμα για το έτος 2015\n",
    "crime_points_2015 = crime_df.filter(\n",
    "    (col(\"LAT\").isNotNull()) &\n",
    "    (col(\"LON\").isNotNull()) &\n",
    "    (year(to_date(col(\"DATE OCC\"), \"MM/dd/yyyy hh:mm:ss a\")) == 2015)\n",
    ").withColumn(\"geometry\", ST_Point(col(\"LON\"), col(\"LAT\"))) \\\n",
    " .select(\"geometry\", \"Vict Descent\")\n",
    "\n",
    "# Υπολογισμός κατα κεφαλήν εισοδήματος ανά περιοχή\n",
    "average_income_per_person = LA_blocks.join(\n",
    "    income_df,\n",
    "    LA_blocks[\"ZCTA10\"] == income_df[\"Zip Code\"],\n",
    "    \"inner\"\n",
    ").withColumn(\n",
    "    \"Total Income Per Block\",\n",
    "    (col(\"HOUSING10\") * col(\"Estimated Median Income\")).alias(\"Total Income Per Block\")\n",
    ").groupBy(\"COMM\").agg(\n",
    "    ST_Union_Aggr(\"geometry\").alias(\"geometry\"),\n",
    "    sum(\"Total Income Per Block\").alias(\"Total Income\"),\n",
    "    sum(\"POP_2010\").alias(\"Total Population\")\n",
    ").withColumn(\n",
    "    \"Avg Income Per Person ($)\",\n",
    "    (col(\"Total Income\") / col(\"Total Population\"))\n",
    ").select(\n",
    "    \"COMM\", \n",
    "    \"Avg Income Per Person ($)\",\n",
    "    \"geometry\"\n",
    ")\n",
    "\n",
    "#  3 περιοχές με το υψηλότερο κατά κεφαλήν εισόδημα\n",
    "top_3_income_blocks = average_income_per_person.orderBy(\"Avg Income Per Person ($)\", ascending=False).limit(3)\n",
    "\n",
    "#  3 περιοχές με το χαμηλότερο κατά κεφαλήν εισόδημα\n",
    "bottom_3_income_blocks = average_income_per_person.orderBy(\"Avg Income Per Person ($)\", ascending=True).limit(3)\n",
    "\n",
    "# Υπολογισμός αριθμού θυμάτων ανά φυλετικό γκρουπ για τις 3 περιοχές με το υψηλότερο κατά κεφαλήν εισόδημα\n",
    "victims_in_top_3_income_blocks = crime_points_2015.join(\n",
    "    top_3_income_blocks,\n",
    "    ST_Within(crime_points_2015[\"geometry\"], bottom_3_income_blocks[\"geometry\"]),\n",
    "    \"inner\"\n",
    ").groupBy(\"Vict Descent\").agg(\n",
    "    count(\"*\").alias(\"#\"),\n",
    ").join(\n",
    "    re_codes_df,\n",
    "    \"Vict Descent\",\n",
    "    \"inner\"\n",
    ").select(\n",
    "    col(\"Vict Descent Full\").alias(\"Victim Descent\"), \n",
    "    \"#\"\n",
    ").orderBy(\"#\", ascending=False)\n",
    "\n",
    "# Εμφάνιση αριθμού θυμάτων ανά φυλετικό γκρουπ για τις 3 περιοχές με το υψηλότερο κατά κεφαλήν εισόδημα\n",
    "victims_in_top_3_income_blocks.show(truncate=False)\n",
    "\n",
    "# Υπολογισμός αριθμού θυμάτων ανά φυλετικό γκρουπ για τις 3 περιοχές με το χαμηλότερο κατά κεφαλήν εισόδημα\n",
    "victims_in_bottom_3_income_blocks = crime_points_2015.join(\n",
    "    bottom_3_income_blocks,\n",
    "    ST_Within(crime_points_2015[\"geometry\"], bottom_3_income_blocks[\"geometry\"]),\n",
    "    \"inner\"\n",
    ").groupBy(\"Vict Descent\").agg(\n",
    "    count(\"*\").alias(\"#\"),\n",
    ").join(\n",
    "    re_codes_df,\n",
    "    \"Vict Descent\",\n",
    "    \"inner\"\n",
    ").select(\n",
    "    col(\"Vict Descent Full\").alias(\"Victim Descent\"), \n",
    "    \"#\"\n",
    ").orderBy(\"#\", ascending=False)\n",
    "\n",
    "# Εμφάνιση αριθμού θυμάτων ανά φυλετικό γκρουπ για τις 3 περιοχές με το χαμηλότερο κατά κεφαλήν εισόδημα\n",
    "victims_in_bottom_3_income_blocks.show(truncate=False)\n",
    "\n",
    "end_time = time.time()\n",
    "\n",
    "# Εμφάνιση χρόνου εκτέλεσης\n",
    "print(f\"Configuration 3 (2 executors * 4 cores/8GB memory) Execution Time: {(end_time - start_time):.2f} seconds\")"
   ]
  }
 ],
 "metadata": {
  "kernelspec": {
   "display_name": "Sparkmagic (PySpark)",
   "language": "python",
   "name": "pysparkkernel"
  },
  "language_info": {
   "codemirror_mode": {
    "name": "python",
    "version": 3
   },
   "file_extension": ".py",
   "mimetype": "text/x-python",
   "name": "pyspark",
   "pygments_lexer": "python3"
  }
 },
 "nbformat": 4,
 "nbformat_minor": 5
}
