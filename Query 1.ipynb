{
 "cells": [
  {
   "cell_type": "code",
   "execution_count": 1,
   "id": "5d2d08e7-764b-4d9b-a2a1-bc2039353d7e",
   "metadata": {},
   "outputs": [
    {
     "data": {
      "text/html": [
       "Current session configs: <tt>{'conf': {'spark.sql.catalog.spark_catalog.type': 'hive', 'spark.executor.instances': '4', 'spark.executor.memory': '1g', 'spark.executor.cores': '1', 'spark.driver.memory': '2g'}, 'kind': 'pyspark'}</tt><br>"
      ],
      "text/plain": [
       "<IPython.core.display.HTML object>"
      ]
     },
     "metadata": {},
     "output_type": "display_data"
    },
    {
     "data": {
      "text/html": [
       "<table>\n",
       "<tr><th>ID</th><th>YARN Application ID</th><th>Kind</th><th>State</th><th>Spark UI</th><th>Driver log</th><th>User</th><th>Current session?</th></tr><tr><td>126</td><td>application_1738075734771_0127</td><td>pyspark</td><td>idle</td><td><a target=\"_blank\" href=\"http://ip-192-168-1-12.eu-central-1.compute.internal:20888/proxy/application_1738075734771_0127/\">Link</a></td><td><a target=\"_blank\" href=\"http://ip-192-168-1-139.eu-central-1.compute.internal:8042/node/containerlogs/container_1738075734771_0127_01_000001/livy\">Link</a></td><td>None</td><td></td></tr><tr><td>129</td><td>application_1738075734771_0130</td><td>pyspark</td><td>idle</td><td><a target=\"_blank\" href=\"http://ip-192-168-1-12.eu-central-1.compute.internal:20888/proxy/application_1738075734771_0130/\">Link</a></td><td><a target=\"_blank\" href=\"http://ip-192-168-1-139.eu-central-1.compute.internal:8042/node/containerlogs/container_1738075734771_0130_01_000002/livy\">Link</a></td><td>None</td><td></td></tr><tr><td>145</td><td>application_1738075734771_0146</td><td>pyspark</td><td>idle</td><td><a target=\"_blank\" href=\"http://ip-192-168-1-12.eu-central-1.compute.internal:20888/proxy/application_1738075734771_0146/\">Link</a></td><td><a target=\"_blank\" href=\"http://ip-192-168-1-139.eu-central-1.compute.internal:8042/node/containerlogs/container_1738075734771_0146_01_000002/livy\">Link</a></td><td>None</td><td></td></tr><tr><td>148</td><td>application_1738075734771_0149</td><td>pyspark</td><td>idle</td><td><a target=\"_blank\" href=\"http://ip-192-168-1-12.eu-central-1.compute.internal:20888/proxy/application_1738075734771_0149/\">Link</a></td><td><a target=\"_blank\" href=\"http://ip-192-168-1-137.eu-central-1.compute.internal:8042/node/containerlogs/container_1738075734771_0149_01_000002/livy\">Link</a></td><td>None</td><td></td></tr><tr><td>149</td><td>application_1738075734771_0150</td><td>pyspark</td><td>idle</td><td><a target=\"_blank\" href=\"http://ip-192-168-1-12.eu-central-1.compute.internal:20888/proxy/application_1738075734771_0150/\">Link</a></td><td><a target=\"_blank\" href=\"http://ip-192-168-1-32.eu-central-1.compute.internal:8042/node/containerlogs/container_1738075734771_0150_01_000001/livy\">Link</a></td><td>None</td><td></td></tr><tr><td>155</td><td>application_1738075734771_0156</td><td>pyspark</td><td>idle</td><td><a target=\"_blank\" href=\"http://ip-192-168-1-12.eu-central-1.compute.internal:20888/proxy/application_1738075734771_0156/\">Link</a></td><td><a target=\"_blank\" href=\"http://ip-192-168-1-32.eu-central-1.compute.internal:8042/node/containerlogs/container_1738075734771_0156_01_000002/livy\">Link</a></td><td>None</td><td></td></tr><tr><td>156</td><td>application_1738075734771_0157</td><td>pyspark</td><td>idle</td><td><a target=\"_blank\" href=\"http://ip-192-168-1-12.eu-central-1.compute.internal:20888/proxy/application_1738075734771_0157/\">Link</a></td><td><a target=\"_blank\" href=\"http://ip-192-168-1-72.eu-central-1.compute.internal:8042/node/containerlogs/container_1738075734771_0157_01_000003/livy\">Link</a></td><td>None</td><td></td></tr><tr><td>161</td><td>application_1738075734771_0162</td><td>pyspark</td><td>idle</td><td><a target=\"_blank\" href=\"http://ip-192-168-1-12.eu-central-1.compute.internal:20888/proxy/application_1738075734771_0162/\">Link</a></td><td><a target=\"_blank\" href=\"http://ip-192-168-1-75.eu-central-1.compute.internal:8042/node/containerlogs/container_1738075734771_0162_01_000002/livy\">Link</a></td><td>None</td><td></td></tr><tr><td>165</td><td>application_1738075734771_0166</td><td>pyspark</td><td>idle</td><td><a target=\"_blank\" href=\"http://ip-192-168-1-12.eu-central-1.compute.internal:20888/proxy/application_1738075734771_0166/\">Link</a></td><td><a target=\"_blank\" href=\"http://ip-192-168-1-139.eu-central-1.compute.internal:8042/node/containerlogs/container_1738075734771_0166_01_000002/livy\">Link</a></td><td>None</td><td></td></tr><tr><td>170</td><td>application_1738075734771_0171</td><td>pyspark</td><td>idle</td><td><a target=\"_blank\" href=\"http://ip-192-168-1-12.eu-central-1.compute.internal:20888/proxy/application_1738075734771_0171/\">Link</a></td><td><a target=\"_blank\" href=\"http://ip-192-168-1-139.eu-central-1.compute.internal:8042/node/containerlogs/container_1738075734771_0171_01_000002/livy\">Link</a></td><td>None</td><td></td></tr><tr><td>171</td><td>application_1738075734771_0172</td><td>pyspark</td><td>idle</td><td><a target=\"_blank\" href=\"http://ip-192-168-1-12.eu-central-1.compute.internal:20888/proxy/application_1738075734771_0172/\">Link</a></td><td><a target=\"_blank\" href=\"http://ip-192-168-1-139.eu-central-1.compute.internal:8042/node/containerlogs/container_1738075734771_0172_01_000002/livy\">Link</a></td><td>None</td><td></td></tr><tr><td>173</td><td>application_1738075734771_0174</td><td>pyspark</td><td>idle</td><td><a target=\"_blank\" href=\"http://ip-192-168-1-12.eu-central-1.compute.internal:20888/proxy/application_1738075734771_0174/\">Link</a></td><td><a target=\"_blank\" href=\"http://ip-192-168-1-137.eu-central-1.compute.internal:8042/node/containerlogs/container_1738075734771_0174_01_000001/livy\">Link</a></td><td>None</td><td></td></tr><tr><td>174</td><td>application_1738075734771_0175</td><td>pyspark</td><td>idle</td><td><a target=\"_blank\" href=\"http://ip-192-168-1-12.eu-central-1.compute.internal:20888/proxy/application_1738075734771_0175/\">Link</a></td><td><a target=\"_blank\" href=\"http://ip-192-168-1-75.eu-central-1.compute.internal:8042/node/containerlogs/container_1738075734771_0175_01_000002/livy\">Link</a></td><td>None</td><td></td></tr><tr><td>175</td><td>application_1738075734771_0176</td><td>pyspark</td><td>idle</td><td><a target=\"_blank\" href=\"http://ip-192-168-1-12.eu-central-1.compute.internal:20888/proxy/application_1738075734771_0176/\">Link</a></td><td><a target=\"_blank\" href=\"http://ip-192-168-1-194.eu-central-1.compute.internal:8042/node/containerlogs/container_1738075734771_0176_01_000002/livy\">Link</a></td><td>None</td><td></td></tr><tr><td>183</td><td>application_1738075734771_0184</td><td>pyspark</td><td>idle</td><td><a target=\"_blank\" href=\"http://ip-192-168-1-12.eu-central-1.compute.internal:20888/proxy/application_1738075734771_0184/\">Link</a></td><td><a target=\"_blank\" href=\"http://ip-192-168-1-32.eu-central-1.compute.internal:8042/node/containerlogs/container_1738075734771_0184_01_000001/livy\">Link</a></td><td>None</td><td></td></tr><tr><td>186</td><td>application_1738075734771_0187</td><td>pyspark</td><td>idle</td><td><a target=\"_blank\" href=\"http://ip-192-168-1-12.eu-central-1.compute.internal:20888/proxy/application_1738075734771_0187/\">Link</a></td><td><a target=\"_blank\" href=\"http://ip-192-168-1-32.eu-central-1.compute.internal:8042/node/containerlogs/container_1738075734771_0187_01_000001/livy\">Link</a></td><td>None</td><td></td></tr><tr><td>193</td><td>application_1738075734771_0194</td><td>pyspark</td><td>idle</td><td><a target=\"_blank\" href=\"http://ip-192-168-1-12.eu-central-1.compute.internal:20888/proxy/application_1738075734771_0194/\">Link</a></td><td><a target=\"_blank\" href=\"http://ip-192-168-1-194.eu-central-1.compute.internal:8042/node/containerlogs/container_1738075734771_0194_01_000002/livy\">Link</a></td><td>None</td><td></td></tr><tr><td>195</td><td>application_1738075734771_0196</td><td>pyspark</td><td>idle</td><td><a target=\"_blank\" href=\"http://ip-192-168-1-12.eu-central-1.compute.internal:20888/proxy/application_1738075734771_0196/\">Link</a></td><td><a target=\"_blank\" href=\"http://ip-192-168-1-137.eu-central-1.compute.internal:8042/node/containerlogs/container_1738075734771_0196_01_000001/livy\">Link</a></td><td>None</td><td></td></tr><tr><td>214</td><td>application_1738075734771_0215</td><td>pyspark</td><td>idle</td><td><a target=\"_blank\" href=\"http://ip-192-168-1-12.eu-central-1.compute.internal:20888/proxy/application_1738075734771_0215/\">Link</a></td><td><a target=\"_blank\" href=\"http://ip-192-168-1-241.eu-central-1.compute.internal:8042/node/containerlogs/container_1738075734771_0215_01_000001/livy\">Link</a></td><td>None</td><td></td></tr><tr><td>215</td><td>application_1738075734771_0216</td><td>pyspark</td><td>idle</td><td><a target=\"_blank\" href=\"http://ip-192-168-1-12.eu-central-1.compute.internal:20888/proxy/application_1738075734771_0216/\">Link</a></td><td><a target=\"_blank\" href=\"http://ip-192-168-1-245.eu-central-1.compute.internal:8042/node/containerlogs/container_1738075734771_0216_01_000001/livy\">Link</a></td><td>None</td><td></td></tr></table>"
      ],
      "text/plain": [
       "<IPython.core.display.HTML object>"
      ]
     },
     "metadata": {},
     "output_type": "display_data"
    }
   ],
   "source": [
    "%%configure -f\n",
    "{\n",
    "    \"conf\": {\n",
    "        \"spark.executor.instances\": \"4\",\n",
    "        \"spark.executor.memory\": \"1g\",\n",
    "        \"spark.executor.cores\": \"1\",\n",
    "        \"spark.driver.memory\": \"2g\"\n",
    "    }\n",
    "}"
   ]
  },
  {
   "cell_type": "code",
   "execution_count": 2,
   "id": "bf1c7992-f3f2-4cec-9116-8c362143c186",
   "metadata": {},
   "outputs": [
    {
     "name": "stdout",
     "output_type": "stream",
     "text": [
      "Starting Spark application\n"
     ]
    },
    {
     "data": {
      "text/html": [
       "<table>\n",
       "<tr><th>ID</th><th>YARN Application ID</th><th>Kind</th><th>State</th><th>Spark UI</th><th>Driver log</th><th>User</th><th>Current session?</th></tr><tr><td>217</td><td>application_1738075734771_0218</td><td>pyspark</td><td>idle</td><td><a target=\"_blank\" href=\"http://ip-192-168-1-12.eu-central-1.compute.internal:20888/proxy/application_1738075734771_0218/\">Link</a></td><td><a target=\"_blank\" href=\"http://ip-192-168-1-194.eu-central-1.compute.internal:8042/node/containerlogs/container_1738075734771_0218_01_000002/livy\">Link</a></td><td>None</td><td>✔</td></tr></table>"
      ],
      "text/plain": [
       "<IPython.core.display.HTML object>"
      ]
     },
     "metadata": {},
     "output_type": "display_data"
    },
    {
     "data": {
      "application/vnd.jupyter.widget-view+json": {
       "model_id": "",
       "version_major": 2,
       "version_minor": 0
      },
      "text/plain": [
       "FloatProgress(value=0.0, bar_style='info', description='Progress:', layout=Layout(height='25px', width='50%'),…"
      ]
     },
     "metadata": {},
     "output_type": "display_data"
    },
    {
     "name": "stdout",
     "output_type": "stream",
     "text": [
      "SparkSession available as 'spark'.\n"
     ]
    },
    {
     "data": {
      "application/vnd.jupyter.widget-view+json": {
       "model_id": "",
       "version_major": 2,
       "version_minor": 0
      },
      "text/plain": [
       "FloatProgress(value=0.0, bar_style='info', description='Progress:', layout=Layout(height='25px', width='50%'),…"
      ]
     },
     "metadata": {},
     "output_type": "display_data"
    },
    {
     "name": "stdout",
     "output_type": "stream",
     "text": [
      "+------------+------+\n",
      "|   Age_Group| Count|\n",
      "+------------+------+\n",
      "|      Adults|121093|\n",
      "|Young Adults| 33605|\n",
      "|    Children| 15928|\n",
      "|     Seniors|  5985|\n",
      "+------------+------+\n",
      "\n",
      "DataFrame API Execution Time: 42.64 seconds"
     ]
    }
   ],
   "source": [
    "import time\n",
    "from pyspark.sql import SparkSession\n",
    "from pyspark.sql.functions import col, when, count\n",
    "\n",
    "# Δημιουργία SparkSession\n",
    "spark = SparkSession.builder \\\n",
    "    .appName(\"Query1 - Dataframe API\") \\\n",
    "    .getOrCreate()\n",
    "\n",
    "# Μέτρηση χρόνου\n",
    "start_time_df = time.time()\n",
    "\n",
    "# Φόρτωση δεδομένων\n",
    "crime_2010_2019_path = \"s3://initial-notebook-data-bucket-dblab-905418150721/CrimeData/Crime_Data_from_2010_to_2019_20241101.csv\"\n",
    "crime_2020_present_path = \"s3://initial-notebook-data-bucket-dblab-905418150721/CrimeData/Crime_Data_from_2020_to_Present_20241101.csv\"\n",
    "\n",
    "crime_df_2010_2019 = spark.read.csv(crime_2010_2019_path, header=True, inferSchema=True)\n",
    "crime_df_2020_present = spark.read.csv(crime_2020_present_path, header=True, inferSchema=True)\n",
    "crime_df = crime_df_2010_2019.union(crime_df_2020_present)\n",
    "\n",
    "# Φιλτράρισμα για περιστατικά “βαριάς σωματικής βλάβης”.\n",
    "filtered_data = crime_df.filter(col(\"Crm Cd Desc\").like(\"%AGGRAVATED ASSAULT%\"))\n",
    "\n",
    "# Δημιουργία ηλικιακών γκρουπ\n",
    "age_grouped = filtered_data.withColumn(\n",
    "    \"Age_Group\",\n",
    "    when(col(\"Vict Age\") < 18, \"Children\")\n",
    "    .when((col(\"Vict Age\") >= 18) & (col(\"Vict Age\") <= 24), \"Young Adults\")\n",
    "    .when((col(\"Vict Age\") >= 25) & (col(\"Vict Age\") <= 64), \"Adults\")\n",
    "    .when(col(\"Vict Age\") > 64, \"Seniors\")\n",
    ")\n",
    "\n",
    "# Υπολογισμός αριθμού θυμάτων ανά γκρουπ\n",
    "result_df = age_grouped.groupBy(\"Age_Group\").agg(count(\"*\").alias(\"Count\"))\n",
    "\n",
    "# Εμφάνιση αποτελεσμάτων σε φθίνουσα σειρά\n",
    "sorted_result_df = result_df.orderBy(col(\"Count\").desc())\n",
    "sorted_result_df.show()\n",
    "\n",
    "end_time_df = time.time()\n",
    "df_execution_time = end_time_df - start_time_df\n",
    "print(f\"DataFrame API Execution Time: {df_execution_time:.2f} seconds\")"
   ]
  },
  {
   "cell_type": "code",
   "execution_count": 1,
   "id": "d96b9ede-c6d6-4d38-a8f2-9182bd12106f",
   "metadata": {},
   "outputs": [
    {
     "data": {
      "text/html": [
       "Current session configs: <tt>{'conf': {'spark.sql.catalog.spark_catalog.type': 'hive', 'spark.executor.instances': '4', 'spark.executor.memory': '1g', 'spark.executor.cores': '1', 'spark.driver.memory': '2g'}, 'kind': 'pyspark'}</tt><br>"
      ],
      "text/plain": [
       "<IPython.core.display.HTML object>"
      ]
     },
     "metadata": {},
     "output_type": "display_data"
    },
    {
     "data": {
      "text/html": [
       "<table>\n",
       "<tr><th>ID</th><th>YARN Application ID</th><th>Kind</th><th>State</th><th>Spark UI</th><th>Driver log</th><th>User</th><th>Current session?</th></tr><tr><td>126</td><td>application_1738075734771_0127</td><td>pyspark</td><td>idle</td><td><a target=\"_blank\" href=\"http://ip-192-168-1-12.eu-central-1.compute.internal:20888/proxy/application_1738075734771_0127/\">Link</a></td><td><a target=\"_blank\" href=\"http://ip-192-168-1-139.eu-central-1.compute.internal:8042/node/containerlogs/container_1738075734771_0127_01_000001/livy\">Link</a></td><td>None</td><td></td></tr><tr><td>129</td><td>application_1738075734771_0130</td><td>pyspark</td><td>idle</td><td><a target=\"_blank\" href=\"http://ip-192-168-1-12.eu-central-1.compute.internal:20888/proxy/application_1738075734771_0130/\">Link</a></td><td><a target=\"_blank\" href=\"http://ip-192-168-1-139.eu-central-1.compute.internal:8042/node/containerlogs/container_1738075734771_0130_01_000002/livy\">Link</a></td><td>None</td><td></td></tr><tr><td>145</td><td>application_1738075734771_0146</td><td>pyspark</td><td>idle</td><td><a target=\"_blank\" href=\"http://ip-192-168-1-12.eu-central-1.compute.internal:20888/proxy/application_1738075734771_0146/\">Link</a></td><td><a target=\"_blank\" href=\"http://ip-192-168-1-139.eu-central-1.compute.internal:8042/node/containerlogs/container_1738075734771_0146_01_000002/livy\">Link</a></td><td>None</td><td></td></tr><tr><td>148</td><td>application_1738075734771_0149</td><td>pyspark</td><td>idle</td><td><a target=\"_blank\" href=\"http://ip-192-168-1-12.eu-central-1.compute.internal:20888/proxy/application_1738075734771_0149/\">Link</a></td><td><a target=\"_blank\" href=\"http://ip-192-168-1-137.eu-central-1.compute.internal:8042/node/containerlogs/container_1738075734771_0149_01_000002/livy\">Link</a></td><td>None</td><td></td></tr><tr><td>149</td><td>application_1738075734771_0150</td><td>pyspark</td><td>idle</td><td><a target=\"_blank\" href=\"http://ip-192-168-1-12.eu-central-1.compute.internal:20888/proxy/application_1738075734771_0150/\">Link</a></td><td><a target=\"_blank\" href=\"http://ip-192-168-1-32.eu-central-1.compute.internal:8042/node/containerlogs/container_1738075734771_0150_01_000001/livy\">Link</a></td><td>None</td><td></td></tr><tr><td>155</td><td>application_1738075734771_0156</td><td>pyspark</td><td>idle</td><td><a target=\"_blank\" href=\"http://ip-192-168-1-12.eu-central-1.compute.internal:20888/proxy/application_1738075734771_0156/\">Link</a></td><td><a target=\"_blank\" href=\"http://ip-192-168-1-32.eu-central-1.compute.internal:8042/node/containerlogs/container_1738075734771_0156_01_000002/livy\">Link</a></td><td>None</td><td></td></tr><tr><td>156</td><td>application_1738075734771_0157</td><td>pyspark</td><td>idle</td><td><a target=\"_blank\" href=\"http://ip-192-168-1-12.eu-central-1.compute.internal:20888/proxy/application_1738075734771_0157/\">Link</a></td><td><a target=\"_blank\" href=\"http://ip-192-168-1-72.eu-central-1.compute.internal:8042/node/containerlogs/container_1738075734771_0157_01_000003/livy\">Link</a></td><td>None</td><td></td></tr><tr><td>161</td><td>application_1738075734771_0162</td><td>pyspark</td><td>idle</td><td><a target=\"_blank\" href=\"http://ip-192-168-1-12.eu-central-1.compute.internal:20888/proxy/application_1738075734771_0162/\">Link</a></td><td><a target=\"_blank\" href=\"http://ip-192-168-1-75.eu-central-1.compute.internal:8042/node/containerlogs/container_1738075734771_0162_01_000002/livy\">Link</a></td><td>None</td><td></td></tr><tr><td>165</td><td>application_1738075734771_0166</td><td>pyspark</td><td>idle</td><td><a target=\"_blank\" href=\"http://ip-192-168-1-12.eu-central-1.compute.internal:20888/proxy/application_1738075734771_0166/\">Link</a></td><td><a target=\"_blank\" href=\"http://ip-192-168-1-139.eu-central-1.compute.internal:8042/node/containerlogs/container_1738075734771_0166_01_000002/livy\">Link</a></td><td>None</td><td></td></tr><tr><td>170</td><td>application_1738075734771_0171</td><td>pyspark</td><td>idle</td><td><a target=\"_blank\" href=\"http://ip-192-168-1-12.eu-central-1.compute.internal:20888/proxy/application_1738075734771_0171/\">Link</a></td><td><a target=\"_blank\" href=\"http://ip-192-168-1-139.eu-central-1.compute.internal:8042/node/containerlogs/container_1738075734771_0171_01_000002/livy\">Link</a></td><td>None</td><td></td></tr><tr><td>171</td><td>application_1738075734771_0172</td><td>pyspark</td><td>idle</td><td><a target=\"_blank\" href=\"http://ip-192-168-1-12.eu-central-1.compute.internal:20888/proxy/application_1738075734771_0172/\">Link</a></td><td><a target=\"_blank\" href=\"http://ip-192-168-1-139.eu-central-1.compute.internal:8042/node/containerlogs/container_1738075734771_0172_01_000002/livy\">Link</a></td><td>None</td><td></td></tr><tr><td>173</td><td>application_1738075734771_0174</td><td>pyspark</td><td>idle</td><td><a target=\"_blank\" href=\"http://ip-192-168-1-12.eu-central-1.compute.internal:20888/proxy/application_1738075734771_0174/\">Link</a></td><td><a target=\"_blank\" href=\"http://ip-192-168-1-137.eu-central-1.compute.internal:8042/node/containerlogs/container_1738075734771_0174_01_000001/livy\">Link</a></td><td>None</td><td></td></tr><tr><td>174</td><td>application_1738075734771_0175</td><td>pyspark</td><td>idle</td><td><a target=\"_blank\" href=\"http://ip-192-168-1-12.eu-central-1.compute.internal:20888/proxy/application_1738075734771_0175/\">Link</a></td><td><a target=\"_blank\" href=\"http://ip-192-168-1-75.eu-central-1.compute.internal:8042/node/containerlogs/container_1738075734771_0175_01_000002/livy\">Link</a></td><td>None</td><td></td></tr><tr><td>175</td><td>application_1738075734771_0176</td><td>pyspark</td><td>idle</td><td><a target=\"_blank\" href=\"http://ip-192-168-1-12.eu-central-1.compute.internal:20888/proxy/application_1738075734771_0176/\">Link</a></td><td><a target=\"_blank\" href=\"http://ip-192-168-1-194.eu-central-1.compute.internal:8042/node/containerlogs/container_1738075734771_0176_01_000002/livy\">Link</a></td><td>None</td><td></td></tr><tr><td>183</td><td>application_1738075734771_0184</td><td>pyspark</td><td>idle</td><td><a target=\"_blank\" href=\"http://ip-192-168-1-12.eu-central-1.compute.internal:20888/proxy/application_1738075734771_0184/\">Link</a></td><td><a target=\"_blank\" href=\"http://ip-192-168-1-32.eu-central-1.compute.internal:8042/node/containerlogs/container_1738075734771_0184_01_000001/livy\">Link</a></td><td>None</td><td></td></tr><tr><td>186</td><td>application_1738075734771_0187</td><td>pyspark</td><td>idle</td><td><a target=\"_blank\" href=\"http://ip-192-168-1-12.eu-central-1.compute.internal:20888/proxy/application_1738075734771_0187/\">Link</a></td><td><a target=\"_blank\" href=\"http://ip-192-168-1-32.eu-central-1.compute.internal:8042/node/containerlogs/container_1738075734771_0187_01_000001/livy\">Link</a></td><td>None</td><td></td></tr><tr><td>193</td><td>application_1738075734771_0194</td><td>pyspark</td><td>idle</td><td><a target=\"_blank\" href=\"http://ip-192-168-1-12.eu-central-1.compute.internal:20888/proxy/application_1738075734771_0194/\">Link</a></td><td><a target=\"_blank\" href=\"http://ip-192-168-1-194.eu-central-1.compute.internal:8042/node/containerlogs/container_1738075734771_0194_01_000002/livy\">Link</a></td><td>None</td><td></td></tr><tr><td>195</td><td>application_1738075734771_0196</td><td>pyspark</td><td>idle</td><td><a target=\"_blank\" href=\"http://ip-192-168-1-12.eu-central-1.compute.internal:20888/proxy/application_1738075734771_0196/\">Link</a></td><td><a target=\"_blank\" href=\"http://ip-192-168-1-137.eu-central-1.compute.internal:8042/node/containerlogs/container_1738075734771_0196_01_000001/livy\">Link</a></td><td>None</td><td></td></tr><tr><td>215</td><td>application_1738075734771_0216</td><td>pyspark</td><td>idle</td><td><a target=\"_blank\" href=\"http://ip-192-168-1-12.eu-central-1.compute.internal:20888/proxy/application_1738075734771_0216/\">Link</a></td><td><a target=\"_blank\" href=\"http://ip-192-168-1-245.eu-central-1.compute.internal:8042/node/containerlogs/container_1738075734771_0216_01_000001/livy\">Link</a></td><td>None</td><td></td></tr><tr><td>227</td><td>application_1738075734771_0228</td><td>pyspark</td><td>idle</td><td><a target=\"_blank\" href=\"http://ip-192-168-1-12.eu-central-1.compute.internal:20888/proxy/application_1738075734771_0228/\">Link</a></td><td><a target=\"_blank\" href=\"http://ip-192-168-1-104.eu-central-1.compute.internal:8042/node/containerlogs/container_1738075734771_0228_01_000002/livy\">Link</a></td><td>None</td><td></td></tr></table>"
      ],
      "text/plain": [
       "<IPython.core.display.HTML object>"
      ]
     },
     "metadata": {},
     "output_type": "display_data"
    }
   ],
   "source": [
    "%%configure -f\n",
    "{\n",
    "    \"conf\": {\n",
    "        \"spark.executor.instances\": \"4\",\n",
    "        \"spark.executor.memory\": \"1g\",\n",
    "        \"spark.executor.cores\": \"1\",\n",
    "        \"spark.driver.memory\": \"2g\"\n",
    "    }\n",
    "}"
   ]
  },
  {
   "cell_type": "code",
   "execution_count": 2,
   "id": "2f409f41-ea32-4a2b-a395-d5b502e6653a",
   "metadata": {
    "tags": []
   },
   "outputs": [
    {
     "name": "stdout",
     "output_type": "stream",
     "text": [
      "Starting Spark application\n"
     ]
    },
    {
     "data": {
      "text/html": [
       "<table>\n",
       "<tr><th>ID</th><th>YARN Application ID</th><th>Kind</th><th>State</th><th>Spark UI</th><th>Driver log</th><th>User</th><th>Current session?</th></tr><tr><td>229</td><td>application_1738075734771_0230</td><td>pyspark</td><td>idle</td><td><a target=\"_blank\" href=\"http://ip-192-168-1-12.eu-central-1.compute.internal:20888/proxy/application_1738075734771_0230/\">Link</a></td><td><a target=\"_blank\" href=\"http://ip-192-168-1-210.eu-central-1.compute.internal:8042/node/containerlogs/container_1738075734771_0230_01_000001/livy\">Link</a></td><td>None</td><td>✔</td></tr></table>"
      ],
      "text/plain": [
       "<IPython.core.display.HTML object>"
      ]
     },
     "metadata": {},
     "output_type": "display_data"
    },
    {
     "data": {
      "application/vnd.jupyter.widget-view+json": {
       "model_id": "",
       "version_major": 2,
       "version_minor": 0
      },
      "text/plain": [
       "FloatProgress(value=0.0, bar_style='info', description='Progress:', layout=Layout(height='25px', width='50%'),…"
      ]
     },
     "metadata": {},
     "output_type": "display_data"
    },
    {
     "name": "stdout",
     "output_type": "stream",
     "text": [
      "SparkSession available as 'spark'.\n"
     ]
    },
    {
     "data": {
      "application/vnd.jupyter.widget-view+json": {
       "model_id": "",
       "version_major": 2,
       "version_minor": 0
      },
      "text/plain": [
       "FloatProgress(value=0.0, bar_style='info', description='Progress:', layout=Layout(height='25px', width='50%'),…"
      ]
     },
     "metadata": {},
     "output_type": "display_data"
    },
    {
     "name": "stdout",
     "output_type": "stream",
     "text": [
      "Adults: 121093\n",
      "Young Adults: 33605\n",
      "Children: 15928\n",
      "Seniors: 5985\n",
      "\n",
      "RDD API Execution Time: 36.45 seconds"
     ]
    }
   ],
   "source": [
    "import time\n",
    "from pyspark.sql import SparkSession\n",
    "from pyspark.sql.functions import col, when, count\n",
    "\n",
    "# Δημιουργία SparkSession\n",
    "spark = SparkSession.builder \\\n",
    "    .appName(\"Query1 - RDD API\") \\\n",
    "    .getOrCreate()\n",
    "\n",
    "# Μέτρηση χρόνου\n",
    "start_time_rdd = time.time()\n",
    "\n",
    "# Φόρτωση δεδομένων\n",
    "crime_2010_2019_path = \"s3://initial-notebook-data-bucket-dblab-905418150721/CrimeData/Crime_Data_from_2010_to_2019_20241101.csv\"\n",
    "crime_2020_present_path = \"s3://initial-notebook-data-bucket-dblab-905418150721/CrimeData/Crime_Data_from_2020_to_Present_20241101.csv\"\n",
    "\n",
    "crime_rdd_2010_2019 = spark.read.csv(crime_2010_2019_path).rdd\n",
    "crime_rdd_2020_present = spark.read.csv(crime_2020_present_path).rdd\n",
    "crime_rdd = crime_rdd_2010_2019.union(crime_rdd_2020_present)\n",
    "\n",
    "# Φιλτράρισμα για περιστατικά \"βαριάς σωματικής βλάβης\"\n",
    "filtered_rdd = crime_rdd.filter(lambda row: \"aggravated assault\" in row[9].lower())\n",
    "\n",
    "# Δημιουργία ηλικιακών γκρουπ\n",
    "def categorize_age(row):\n",
    "    age = int(row[11])\n",
    "    if age is None:\n",
    "        return (\"Unknown\", 1)\n",
    "    elif age < 18:\n",
    "        return (\"Children\", 1)\n",
    "    elif 18 <= age <= 24:\n",
    "        return (\"Young Adults\", 1)\n",
    "    elif 25 <= age <= 64:\n",
    "        return (\"Adults\", 1)\n",
    "    elif age > 64:\n",
    "        return (\"Seniors\", 1)\n",
    "\n",
    "categorized_rdd = filtered_rdd.map(categorize_age)\n",
    "\n",
    "# Υπολογισμός αριθμού θυμάτων ανά γκρουπ\n",
    "result_rdd = categorized_rdd.reduceByKey(lambda a, b: a + b)\n",
    "\n",
    "# Εμφάνιση αποτελεσμάτων σε φθίνουσα σειρά\n",
    "sorted_result_rdd = result_rdd.sortBy(lambda x: x[1], ascending=False)\n",
    "for group, count in sorted_result_rdd.collect():\n",
    "    print(f\"{group}: {count}\")\n",
    "    \n",
    "end_time_rdd = time.time()\n",
    "rdd_execution_time = end_time_rdd - start_time_rdd\n",
    "print(f\"\\nRDD API Execution Time: {rdd_execution_time:.2f} seconds\")"
   ]
  }
 ],
 "metadata": {
  "kernelspec": {
   "display_name": "Sparkmagic (PySpark)",
   "language": "python",
   "name": "pysparkkernel"
  },
  "language_info": {
   "codemirror_mode": {
    "name": "python",
    "version": 3
   },
   "file_extension": ".py",
   "mimetype": "text/x-python",
   "name": "pyspark",
   "pygments_lexer": "python3"
  }
 },
 "nbformat": 4,
 "nbformat_minor": 5
}
