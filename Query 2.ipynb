{
 "cells": [
  {
   "cell_type": "code",
   "execution_count": 1,
   "id": "d869ec0b-023b-4078-869a-1b35a8bf46b5",
   "metadata": {},
   "outputs": [
    {
     "name": "stdout",
     "output_type": "stream",
     "text": [
      "Starting Spark application\n"
     ]
    },
    {
     "data": {
      "text/html": [
       "<table>\n",
       "<tr><th>ID</th><th>YARN Application ID</th><th>Kind</th><th>State</th><th>Spark UI</th><th>Driver log</th><th>User</th><th>Current session?</th></tr><tr><td>319</td><td>application_1738075734771_0320</td><td>pyspark</td><td>idle</td><td><a target=\"_blank\" href=\"http://ip-192-168-1-12.eu-central-1.compute.internal:20888/proxy/application_1738075734771_0320/\">Link</a></td><td><a target=\"_blank\" href=\"http://ip-192-168-1-241.eu-central-1.compute.internal:8042/node/containerlogs/container_1738075734771_0320_01_000001/livy\">Link</a></td><td>None</td><td>✔</td></tr></table>"
      ],
      "text/plain": [
       "<IPython.core.display.HTML object>"
      ]
     },
     "metadata": {},
     "output_type": "display_data"
    },
    {
     "data": {
      "application/vnd.jupyter.widget-view+json": {
       "model_id": "",
       "version_major": 2,
       "version_minor": 0
      },
      "text/plain": [
       "FloatProgress(value=0.0, bar_style='info', description='Progress:', layout=Layout(height='25px', width='50%'),…"
      ]
     },
     "metadata": {},
     "output_type": "display_data"
    },
    {
     "name": "stdout",
     "output_type": "stream",
     "text": [
      "SparkSession available as 'spark'.\n"
     ]
    },
    {
     "data": {
      "application/vnd.jupyter.widget-view+json": {
       "model_id": "",
       "version_major": 2,
       "version_minor": 0
      },
      "text/plain": [
       "FloatProgress(value=0.0, bar_style='info', description='Progress:', layout=Layout(height='25px', width='50%'),…"
      ]
     },
     "metadata": {},
     "output_type": "display_data"
    },
    {
     "name": "stdout",
     "output_type": "stream",
     "text": [
      "+----+-----------+------------------+---+\n",
      "|year|   precinct|  closed_case_rate|  #|\n",
      "+----+-----------+------------------+---+\n",
      "|2010|    Rampart| 32.84713448949121|  1|\n",
      "|2010|    Olympic|31.515289821999087|  2|\n",
      "|2010|     Harbor| 29.36028339237341|  3|\n",
      "|2011|    Olympic|35.040060090135206|  1|\n",
      "|2011|    Rampart|  32.4964471814306|  2|\n",
      "|2011|     Harbor| 28.51336246316431|  3|\n",
      "|2012|    Olympic| 34.29708533302119|  1|\n",
      "|2012|    Rampart| 32.46000463714352|  2|\n",
      "|2012|     Harbor|29.509585848956675|  3|\n",
      "|2013|    Olympic| 33.58217940999398|  1|\n",
      "|2013|    Rampart|  32.1060382916053|  2|\n",
      "|2013|     Harbor|29.723638951488557|  3|\n",
      "|2014|   Van Nuys|  32.0215235281705|  1|\n",
      "|2014|West Valley| 31.49754809505847|  2|\n",
      "|2014|    Mission|31.224939855653567|  3|\n",
      "|2015|   Van Nuys|32.265140677157845|  1|\n",
      "|2015|    Mission|30.463762673676303|  2|\n",
      "|2015|   Foothill|30.353001803658852|  3|\n",
      "|2016|   Van Nuys|32.194518462124094|  1|\n",
      "|2016|West Valley| 31.40146437042384|  2|\n",
      "|2016|   Foothill|29.908647228131645|  3|\n",
      "|2017|   Van Nuys|  32.0554272517321|  1|\n",
      "|2017|    Mission|31.055387158996968|  2|\n",
      "|2017|   Foothill|30.469700657094183|  3|\n",
      "|2018|   Foothill|30.731346958877126|  1|\n",
      "|2018|    Mission|30.727023319615913|  2|\n",
      "|2018|   Van Nuys|28.905206942590123|  3|\n",
      "|2019|    Mission|30.727411112319235|  1|\n",
      "|2019|West Valley| 30.57974335472044|  2|\n",
      "|2019|N Hollywood| 29.23808669119627|  3|\n",
      "|2020|West Valley|30.771131982204647|  1|\n",
      "|2020|    Mission| 30.14974649215894|  2|\n",
      "|2020|     Harbor|29.693486590038315|  3|\n",
      "|2021|    Mission|30.318115590092276|  1|\n",
      "|2021|West Valley|28.971087440009363|  2|\n",
      "|2021|   Foothill|27.993757094211126|  3|\n",
      "|2022|West Valley|26.536367172306498|  1|\n",
      "|2022|     Harbor|26.337538060026098|  2|\n",
      "|2022|    Topanga|26.234013317831096|  3|\n",
      "|2023|   Foothill| 26.76076020122974|  1|\n",
      "|2023|    Topanga|26.538022616453986|  2|\n",
      "|2023|    Mission|25.662731120516817|  3|\n",
      "|2024|N Hollywood|19.598528961078763|  1|\n",
      "|2024|   Foothill|18.620882188721385|  2|\n",
      "|2024|77th Street|17.586318167150694|  3|\n",
      "+----+-----------+------------------+---+\n",
      "\n",
      "DataFrame API Execution Time: 18.40 seconds"
     ]
    }
   ],
   "source": [
    "from pyspark.sql import SparkSession\n",
    "from pyspark.sql.functions import col, count, when, desc, row_number, to_date, year\n",
    "from pyspark.sql.window import Window\n",
    "import time\n",
    "\n",
    "# Δημιουργία Spark Session\n",
    "spark = SparkSession.builder \\\n",
    "    .appName(\"Query 2 - Dataframe API\") \\\n",
    "    .getOrCreate()\n",
    "\n",
    "# Μέτρηση χρόνου\n",
    "start_time_df = time.time()\n",
    "\n",
    "# Φόρτωση δεδομένων\n",
    "crime_2010_2019_path = \"s3://initial-notebook-data-bucket-dblab-905418150721/CrimeData/Crime_Data_from_2010_to_2019_20241101.csv\"\n",
    "crime_2020_present_path = \"s3://initial-notebook-data-bucket-dblab-905418150721/CrimeData/Crime_Data_from_2020_to_Present_20241101.csv\"\n",
    "\n",
    "crime_df_2010_2019 = spark.read.csv(crime_2010_2019_path, header=True, inferSchema=True)\n",
    "crime_df_2020_present = spark.read.csv(crime_2020_present_path, header=True, inferSchema=True)\n",
    "crime_df = crime_df_2010_2019.union(crime_df_2020_present)\n",
    "\n",
    "# Φιλτράρισμα κλεισμένων υποθέσεων\n",
    "crime_data = crime_df.withColumn(\n",
    "    \"is_closed\",\n",
    "    when(col(\"Status Desc\").isin(\"UNK\", \"Invest Cont\"), 0).otherwise(1)\n",
    ")\n",
    "\n",
    "# Μετατροπή της στήλης DATE OCC σε ημερομηνία και εξαγωγή του έτους\n",
    "crime_data = crime_data.withColumn(\"year\", year(to_date(col(\"DATE OCC\"), \"MM/dd/yyyy hh:mm:ss a\")))\n",
    "\n",
    "# Υπολογισμός ποσοστού κλεισμένων υποθέσεων ανά έτος και τμήμα\n",
    "closed_case_rate = crime_data.groupBy(\n",
    "    \"year\", \n",
    "    \"AREA NAME\"\n",
    ").agg(\n",
    "    (count(when(col(\"is_closed\") == 1, 1)) / count(\"*\") * 100).alias(\"closed_case_rate\")\n",
    ").select(\n",
    "    \"year\", \n",
    "    col(\"AREA NAME\").alias(\"precinct\"),\n",
    "    \"closed_case_rate\"\n",
    ")\n",
    "\n",
    "# Καθορισμός παραθύρου για την κατάταξη\n",
    "window_spec = Window.partitionBy(\"year\").orderBy(desc(\"closed_case_rate\"))\n",
    "\n",
    "# Προσθήκη στήλης κατάταξης\n",
    "ranked_data = closed_case_rate.withColumn(\"#\", row_number().over(window_spec))\n",
    "\n",
    "# Επιλογή των 3 κορυφαίων τμημάτων ανά έτος\n",
    "top_3_per_year = ranked_data.filter(col(\"#\") <= 3).orderBy(\"year\", \"#\")\n",
    "\n",
    "# Εμφάνιση αποτελεσμάτων\n",
    "top_3_per_year.show(45)\n",
    "\n",
    "end_time_df = time.time()\n",
    "\n",
    "df_execution_time = end_time_df - start_time_df\n",
    "\n",
    "print(f\"DataFrame API Execution Time: {df_execution_time:.2f} seconds\")"
   ]
  },
  {
   "cell_type": "code",
   "execution_count": 1,
   "id": "96f6a01d-b01f-43db-aa01-e69b6dc5b280",
   "metadata": {},
   "outputs": [
    {
     "name": "stdout",
     "output_type": "stream",
     "text": [
      "Starting Spark application\n"
     ]
    },
    {
     "data": {
      "text/html": [
       "<table>\n",
       "<tr><th>ID</th><th>YARN Application ID</th><th>Kind</th><th>State</th><th>Spark UI</th><th>Driver log</th><th>User</th><th>Current session?</th></tr><tr><td>324</td><td>application_1738075734771_0325</td><td>pyspark</td><td>idle</td><td><a target=\"_blank\" href=\"http://ip-192-168-1-12.eu-central-1.compute.internal:20888/proxy/application_1738075734771_0325/\">Link</a></td><td><a target=\"_blank\" href=\"http://ip-192-168-1-194.eu-central-1.compute.internal:8042/node/containerlogs/container_1738075734771_0325_01_000001/livy\">Link</a></td><td>None</td><td>✔</td></tr></table>"
      ],
      "text/plain": [
       "<IPython.core.display.HTML object>"
      ]
     },
     "metadata": {},
     "output_type": "display_data"
    },
    {
     "data": {
      "application/vnd.jupyter.widget-view+json": {
       "model_id": "",
       "version_major": 2,
       "version_minor": 0
      },
      "text/plain": [
       "FloatProgress(value=0.0, bar_style='info', description='Progress:', layout=Layout(height='25px', width='50%'),…"
      ]
     },
     "metadata": {},
     "output_type": "display_data"
    },
    {
     "name": "stdout",
     "output_type": "stream",
     "text": [
      "SparkSession available as 'spark'.\n"
     ]
    },
    {
     "data": {
      "application/vnd.jupyter.widget-view+json": {
       "model_id": "",
       "version_major": 2,
       "version_minor": 0
      },
      "text/plain": [
       "FloatProgress(value=0.0, bar_style='info', description='Progress:', layout=Layout(height='25px', width='50%'),…"
      ]
     },
     "metadata": {},
     "output_type": "display_data"
    },
    {
     "name": "stdout",
     "output_type": "stream",
     "text": [
      "+----+-----------+-----------------+---+\n",
      "|year|   precinct| closed_case_rate|  #|\n",
      "+----+-----------+-----------------+---+\n",
      "|2010|    Rampart|32.84713448949121|  1|\n",
      "|2010|    Olympic|31.51528982199909|  2|\n",
      "|2010|     Harbor|29.36028339237341|  3|\n",
      "|2011|    Olympic|35.04006009013520|  1|\n",
      "|2011|    Rampart|32.49644718143060|  2|\n",
      "|2011|     Harbor|28.51336246316431|  3|\n",
      "|2012|    Olympic|34.29708533302119|  1|\n",
      "|2012|    Rampart|32.46000463714352|  2|\n",
      "|2012|     Harbor|29.50958584895668|  3|\n",
      "|2013|    Olympic|33.58217940999398|  1|\n",
      "|2013|    Rampart|32.10603829160530|  2|\n",
      "|2013|     Harbor|29.72363895148855|  3|\n",
      "|2014|   Van Nuys|32.02152352817050|  1|\n",
      "|2014|West Valley|31.49754809505847|  2|\n",
      "|2014|    Mission|31.22493985565357|  3|\n",
      "|2015|   Van Nuys|32.26514067715784|  1|\n",
      "|2015|    Mission|30.46376267367630|  2|\n",
      "|2015|   Foothill|30.35300180365885|  3|\n",
      "|2016|   Van Nuys|32.19451846212410|  1|\n",
      "|2016|West Valley|31.40146437042384|  2|\n",
      "|2016|   Foothill|29.90864722813165|  3|\n",
      "|2017|   Van Nuys|32.05542725173210|  1|\n",
      "|2017|    Mission|31.05538715899697|  2|\n",
      "|2017|   Foothill|30.46970065709418|  3|\n",
      "|2018|   Foothill|30.73134695887712|  1|\n",
      "|2018|    Mission|30.72702331961591|  2|\n",
      "|2018|   Van Nuys|28.90520694259012|  3|\n",
      "|2019|    Mission|30.72741111231923|  1|\n",
      "|2019|West Valley|30.57974335472044|  2|\n",
      "|2019|N Hollywood|29.23808669119627|  3|\n",
      "|2020|West Valley|30.77113198220465|  1|\n",
      "|2020|    Mission|30.14974649215894|  2|\n",
      "|2020|     Harbor|29.69348659003831|  3|\n",
      "|2021|    Mission|30.31811559009228|  1|\n",
      "|2021|West Valley|28.97108744000936|  2|\n",
      "|2021|   Foothill|27.99375709421112|  3|\n",
      "|2022|West Valley|26.53636717230650|  1|\n",
      "|2022|     Harbor|26.33753806002610|  2|\n",
      "|2022|    Topanga|26.23401331783110|  3|\n",
      "|2023|   Foothill|26.76076020122974|  1|\n",
      "|2023|    Topanga|26.53802261645399|  2|\n",
      "|2023|    Mission|25.66273112051682|  3|\n",
      "|2024|N Hollywood|19.59852896107876|  1|\n",
      "|2024|   Foothill|18.62088218872138|  2|\n",
      "|2024|77th Street|17.58631816715069|  3|\n",
      "+----+-----------+-----------------+---+\n",
      "\n",
      "SQL API Execution Time: 18.29 seconds"
     ]
    }
   ],
   "source": [
    "from pyspark.sql import SparkSession\n",
    "from pyspark.sql.functions import col, count, when, desc, row_number, to_date, year\n",
    "from pyspark.sql.window import Window\n",
    "import time\n",
    "\n",
    "# Δημιουργία Spark Session\n",
    "spark = SparkSession.builder \\\n",
    "    .appName(\"Query 2 - SQL API\") \\\n",
    "    .getOrCreate()\n",
    "\n",
    "# Μέτρηση χρόνου\n",
    "start_time_sql = time.time()\n",
    "\n",
    "# Φόρτωση δεδομένων\n",
    "crime_2010_2019_path = \"s3://initial-notebook-data-bucket-dblab-905418150721/CrimeData/Crime_Data_from_2010_to_2019_20241101.csv\"\n",
    "crime_2020_present_path = \"s3://initial-notebook-data-bucket-dblab-905418150721/CrimeData/Crime_Data_from_2020_to_Present_20241101.csv\"\n",
    "\n",
    "crime_df_2010_2019 = spark.read.csv(crime_2010_2019_path, header=True, inferSchema=True)\n",
    "crime_df_2020_present = spark.read.csv(crime_2020_present_path, header=True, inferSchema=True)\n",
    "crime_df = crime_df_2010_2019.union(crime_df_2020_present)\n",
    "\n",
    "# Φιλτράρισμα ανοιχτών και κλεισμένων υποθέσεων\n",
    "crime_data = crime_df.withColumn(\n",
    "    \"is_closed\",\n",
    "    when(col(\"Status Desc\").isin(\"UNK\", \"Invest Cont\"), 0).otherwise(1)\n",
    ")\n",
    "\n",
    "# Μετατροπή της στήλης DATE OCC σε ημερομηνία και εξαγωγή του έτους\n",
    "crime_data = crime_data.withColumn(\"year\", year(to_date(col(\"DATE OCC\"), \"MM/dd/yyyy hh:mm:ss a\")))\n",
    "\n",
    "# Δημιουργία προσωρινού view\n",
    "crime_data.createOrReplaceTempView(\"crime_data\")\n",
    "\n",
    "# Υλοποίηση με SQL\n",
    "query = \"\"\"\n",
    "WITH ranked_data AS (\n",
    "    SELECT \n",
    "        year, \n",
    "        `AREA NAME` AS precinct, \n",
    "        (SUM(CASE WHEN `Status Desc` NOT IN ('UNK', 'Invest Cont') THEN 1 ELSE 0 END) * 100.0 / COUNT(*)) AS closed_case_rate,\n",
    "        RANK() OVER (PARTITION BY year ORDER BY (SUM(CASE WHEN `Status Desc` NOT IN ('UNK', 'Invest Cont') THEN 1 ELSE 0 END) * 100.0 / COUNT(*)) DESC) AS `#`\n",
    "    FROM crime_data\n",
    "    GROUP BY year, `AREA NAME`\n",
    ")\n",
    "SELECT year, precinct, closed_case_rate, `#`\n",
    "FROM ranked_data\n",
    "WHERE `#` <= 3\n",
    "ORDER BY year, `#`\n",
    "\"\"\"\n",
    "\n",
    "top_3_per_year_sql = spark.sql(query)\n",
    "\n",
    "# Εμφάνιση αποτελεσμάτων\n",
    "top_3_per_year_sql.show(45)\n",
    "\n",
    "end_time_sql = time.time()\n",
    "\n",
    "sql_execution_time = end_time_sql - start_time_sql\n",
    "\n",
    "print(f\"SQL API Execution Time: {sql_execution_time:.2f} seconds\")"
   ]
  },
  {
   "cell_type": "code",
   "execution_count": 2,
   "id": "78dcd290-d9be-4b82-8248-a2fb99c913d8",
   "metadata": {},
   "outputs": [
    {
     "data": {
      "application/vnd.jupyter.widget-view+json": {
       "model_id": "",
       "version_major": 2,
       "version_minor": 0
      },
      "text/plain": [
       "FloatProgress(value=0.0, bar_style='info', description='Progress:', layout=Layout(height='25px', width='50%'),…"
      ]
     },
     "metadata": {},
     "output_type": "display_data"
    }
   ],
   "source": [
    "s3_path = \"s3://groups-bucket-dblab-905418150721/group38/\"\n",
    "crime_df.coalesce(1).write.mode(\"overwrite\").parquet(s3_path)"
   ]
  },
  {
   "cell_type": "code",
   "execution_count": 1,
   "id": "a7bd3d60-cb36-4768-9084-16906cacdec9",
   "metadata": {},
   "outputs": [
    {
     "name": "stdout",
     "output_type": "stream",
     "text": [
      "Starting Spark application\n"
     ]
    },
    {
     "data": {
      "text/html": [
       "<table>\n",
       "<tr><th>ID</th><th>YARN Application ID</th><th>Kind</th><th>State</th><th>Spark UI</th><th>Driver log</th><th>User</th><th>Current session?</th></tr><tr><td>330</td><td>application_1738075734771_0331</td><td>pyspark</td><td>idle</td><td><a target=\"_blank\" href=\"http://ip-192-168-1-12.eu-central-1.compute.internal:20888/proxy/application_1738075734771_0331/\">Link</a></td><td><a target=\"_blank\" href=\"http://ip-192-168-1-194.eu-central-1.compute.internal:8042/node/containerlogs/container_1738075734771_0331_01_000001/livy\">Link</a></td><td>None</td><td>✔</td></tr></table>"
      ],
      "text/plain": [
       "<IPython.core.display.HTML object>"
      ]
     },
     "metadata": {},
     "output_type": "display_data"
    },
    {
     "data": {
      "application/vnd.jupyter.widget-view+json": {
       "model_id": "",
       "version_major": 2,
       "version_minor": 0
      },
      "text/plain": [
       "FloatProgress(value=0.0, bar_style='info', description='Progress:', layout=Layout(height='25px', width='50%'),…"
      ]
     },
     "metadata": {},
     "output_type": "display_data"
    },
    {
     "name": "stdout",
     "output_type": "stream",
     "text": [
      "SparkSession available as 'spark'.\n"
     ]
    },
    {
     "data": {
      "application/vnd.jupyter.widget-view+json": {
       "model_id": "",
       "version_major": 2,
       "version_minor": 0
      },
      "text/plain": [
       "FloatProgress(value=0.0, bar_style='info', description='Progress:', layout=Layout(height='25px', width='50%'),…"
      ]
     },
     "metadata": {},
     "output_type": "display_data"
    },
    {
     "name": "stdout",
     "output_type": "stream",
     "text": [
      "+----+-----------+------------------+---+\n",
      "|year|   precinct|  closed_case_rate|  #|\n",
      "+----+-----------+------------------+---+\n",
      "|2010|    Rampart| 32.84713448949121|  1|\n",
      "|2010|    Olympic|31.515289821999087|  2|\n",
      "|2010|     Harbor| 29.36028339237341|  3|\n",
      "|2011|    Olympic|35.040060090135206|  1|\n",
      "|2011|    Rampart|  32.4964471814306|  2|\n",
      "|2011|     Harbor| 28.51336246316431|  3|\n",
      "|2012|    Olympic| 34.29708533302119|  1|\n",
      "|2012|    Rampart| 32.46000463714352|  2|\n",
      "|2012|     Harbor|29.509585848956675|  3|\n",
      "|2013|    Olympic| 33.58217940999398|  1|\n",
      "|2013|    Rampart|  32.1060382916053|  2|\n",
      "|2013|     Harbor|29.723638951488557|  3|\n",
      "|2014|   Van Nuys|  32.0215235281705|  1|\n",
      "|2014|West Valley| 31.49754809505847|  2|\n",
      "|2014|    Mission|31.224939855653567|  3|\n",
      "|2015|   Van Nuys|32.265140677157845|  1|\n",
      "|2015|    Mission|30.463762673676303|  2|\n",
      "|2015|   Foothill|30.353001803658852|  3|\n",
      "|2016|   Van Nuys|32.194518462124094|  1|\n",
      "|2016|West Valley| 31.40146437042384|  2|\n",
      "|2016|   Foothill|29.908647228131645|  3|\n",
      "|2017|   Van Nuys|  32.0554272517321|  1|\n",
      "|2017|    Mission|31.055387158996968|  2|\n",
      "|2017|   Foothill|30.469700657094183|  3|\n",
      "|2018|   Foothill|30.731346958877126|  1|\n",
      "|2018|    Mission|30.727023319615913|  2|\n",
      "|2018|   Van Nuys|28.905206942590123|  3|\n",
      "|2019|    Mission|30.727411112319235|  1|\n",
      "|2019|West Valley| 30.57974335472044|  2|\n",
      "|2019|N Hollywood| 29.23808669119627|  3|\n",
      "|2020|West Valley|30.771131982204647|  1|\n",
      "|2020|    Mission| 30.14974649215894|  2|\n",
      "|2020|     Harbor|29.693486590038315|  3|\n",
      "|2021|    Mission|30.318115590092276|  1|\n",
      "|2021|West Valley|28.971087440009363|  2|\n",
      "|2021|   Foothill|27.993757094211126|  3|\n",
      "|2022|West Valley|26.536367172306498|  1|\n",
      "|2022|     Harbor|26.337538060026098|  2|\n",
      "|2022|    Topanga|26.234013317831096|  3|\n",
      "|2023|   Foothill| 26.76076020122974|  1|\n",
      "|2023|    Topanga|26.538022616453986|  2|\n",
      "|2023|    Mission|25.662731120516817|  3|\n",
      "|2024|N Hollywood|19.598528961078763|  1|\n",
      "|2024|   Foothill|18.620882188721385|  2|\n",
      "|2024|77th Street|17.586318167150694|  3|\n",
      "+----+-----------+------------------+---+\n",
      "\n",
      "DataFrame API Execution Time (.parquet): 16.81 seconds"
     ]
    }
   ],
   "source": [
    "from pyspark.sql import SparkSession\n",
    "from pyspark.sql.functions import col, count, when, desc, row_number, to_date, year\n",
    "from pyspark.sql.window import Window\n",
    "import time\n",
    "\n",
    "# Δημιουργία Spark Session\n",
    "spark = SparkSession.builder \\\n",
    "    .appName(\"Query 2 - Dataframe API (.parquet)\") \\\n",
    "    .getOrCreate()\n",
    "\n",
    "# Μέτρηση χρόνου\n",
    "start_time_df = time.time()\n",
    "\n",
    "# Φόρτωση δεδομένων\n",
    "s3_path = \"s3://groups-bucket-dblab-905418150721/group38/\"\n",
    "crime_df = spark.read.parquet(s3_path)\n",
    "\n",
    "# Φιλτράρισμα ανοιχτών και κλεισμένων υποθέσεων\n",
    "crime_data = crime_df.withColumn(\n",
    "    \"is_closed\",\n",
    "    when(col(\"Status Desc\").isin(\"UNK\", \"Invest Cont\"), 0).otherwise(1)\n",
    ")\n",
    "\n",
    "# Μετατροπή της στήλης DATE OCC σε ημερομηνία και εξαγωγή του έτους\n",
    "crime_data = crime_data.withColumn(\"year\", year(to_date(col(\"DATE OCC\"), \"MM/dd/yyyy hh:mm:ss a\")))\n",
    "\n",
    "# Υπολογισμός ποσοστού κλεισμένων υποθέσεων ανά έτος και τμήμα\n",
    "closed_case_rate = crime_data.groupBy(\n",
    "    \"year\", \n",
    "    \"AREA NAME\"\n",
    ").agg(\n",
    "    (count(when(col(\"is_closed\") == 1, 1)) / count(\"*\") * 100).alias(\"closed_case_rate\")\n",
    ").select(\n",
    "    \"year\", \n",
    "    col(\"AREA NAME\").alias(\"precinct\"),\n",
    "    \"closed_case_rate\"\n",
    ")\n",
    "\n",
    "# Καθορισμός παραθύρου για την κατάταξη\n",
    "window_spec = Window.partitionBy(\"year\").orderBy(desc(\"closed_case_rate\"))\n",
    "\n",
    "# Προσθήκη στήλης κατάταξης\n",
    "ranked_data = closed_case_rate.withColumn(\"#\", row_number().over(window_spec))\n",
    "\n",
    "# Επιλογή των 3 κορυφαίων τμημάτων ανά έτος\n",
    "top_3_per_year = ranked_data.filter(col(\"#\") <= 3).orderBy(\"year\", \"#\")\n",
    "\n",
    "# Εμφάνιση αποτελεσμάτων\n",
    "top_3_per_year.show(45)\n",
    "\n",
    "end_time_df = time.time()\n",
    "\n",
    "df_execution_time = end_time_df - start_time_df\n",
    "\n",
    "print(f\"DataFrame API Execution Time (.parquet): {df_execution_time:.2f} seconds\")"
   ]
  }
 ],
 "metadata": {
  "kernelspec": {
   "display_name": "Sparkmagic (PySpark)",
   "language": "python",
   "name": "pysparkkernel"
  },
  "language_info": {
   "codemirror_mode": {
    "name": "python",
    "version": 3
   },
   "file_extension": ".py",
   "mimetype": "text/x-python",
   "name": "pyspark",
   "pygments_lexer": "python3"
  }
 },
 "nbformat": 4,
 "nbformat_minor": 5
}
